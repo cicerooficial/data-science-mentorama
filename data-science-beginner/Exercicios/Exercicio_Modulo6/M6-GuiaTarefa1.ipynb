{
 "cells": [
  {
   "cell_type": "markdown",
   "id": "14f58cdf",
   "metadata": {},
   "source": [
    "# Exercícios 1 e 3 (tarefa para retorno 1)"
   ]
  },
  {
   "cell_type": "markdown",
   "id": "307d4984",
   "metadata": {},
   "source": [
    "### Ex. 1: Analise e quantifique a relação da variável survived com a variável sex usando o conjunto de dados do titanic. Faça seus gráficos e calcule o chi-quadrado para quantificar a relação.\n",
    "\n",
    "\n",
    "**Explicação:** aqui iremos verificar se a sobrevivência tem relação direta com o sexo do passageiro, ou seja, a taxa de mulheres sobreviventes foi maior do que a de homens? \n",
    "\n",
    "É importante ter sempre em mente a hipótese que queremos testar, nesse caso pode ser por exemplo: \n",
    "\n",
    "    - h0 = a taxa de sobrevivência tem relação direta com o sexo do passageiro. (Hipótese nula)\n",
    "    - h1 = a taxa de sobrevivência não tem relação direta com o sexo do passageiro. (Hipótese alternativa)\n",
    "\n",
    "Aqui estamos estudando duas variáveis categóricas: survived = 0 ou 1 e sex = male ou female, por isso podemos usar o chi-quadrado.\n",
    "\n",
    "O chi-quadrado tem como princípio básico comparar proporções, ou seja, possíveis divergências entre as frequências observadas e esperadas para um certo evento.\n",
    "\n",
    "\n",
    "**Etapas básicas:**\n",
    "\n",
    "- Carregar os dados titanic.csv;\n",
    "- Analisar a tabela;\n",
    "- Estudar a relação entre as variáveis survived e sex;\n",
    "    - Criar diferentes gráficos\n",
    "    - Calcular chi-quadrado\n",
    "    \n",
    "\n",
    "Obs.: Todos os códigos são correspondentes aos códigos vistos em aula!"
   ]
  },
  {
   "cell_type": "markdown",
   "id": "66c1cc90",
   "metadata": {},
   "source": [
    "#### a) Carregar bibliotecas e os dados"
   ]
  },
  {
   "cell_type": "code",
   "execution_count": 208,
   "id": "ffb096eb",
   "metadata": {},
   "outputs": [],
   "source": [
    "# Bibliotecas essenciais\n",
    "\n",
    "import matplotlib.pyplot as plt\n",
    "import pandas as pd\n",
    "import numpy as np"
   ]
  },
  {
   "cell_type": "code",
   "execution_count": 209,
   "id": "89c601fe",
   "metadata": {},
   "outputs": [
    {
     "name": "stdout",
     "output_type": "stream",
     "text": [
      "(891, 12)\n"
     ]
    },
    {
     "data": {
      "text/html": [
       "<div>\n",
       "<style scoped>\n",
       "    .dataframe tbody tr th:only-of-type {\n",
       "        vertical-align: middle;\n",
       "    }\n",
       "\n",
       "    .dataframe tbody tr th {\n",
       "        vertical-align: top;\n",
       "    }\n",
       "\n",
       "    .dataframe thead th {\n",
       "        text-align: right;\n",
       "    }\n",
       "</style>\n",
       "<table border=\"1\" class=\"dataframe\">\n",
       "  <thead>\n",
       "    <tr style=\"text-align: right;\">\n",
       "      <th></th>\n",
       "      <th>PassengerId</th>\n",
       "      <th>Survived</th>\n",
       "      <th>Pclass</th>\n",
       "      <th>Name</th>\n",
       "      <th>Sex</th>\n",
       "      <th>Age</th>\n",
       "      <th>SibSp</th>\n",
       "      <th>Parch</th>\n",
       "      <th>Ticket</th>\n",
       "      <th>Fare</th>\n",
       "      <th>Cabin</th>\n",
       "      <th>Embarked</th>\n",
       "    </tr>\n",
       "  </thead>\n",
       "  <tbody>\n",
       "    <tr>\n",
       "      <th>0</th>\n",
       "      <td>1</td>\n",
       "      <td>0</td>\n",
       "      <td>3</td>\n",
       "      <td>Braund, Mr. Owen Harris</td>\n",
       "      <td>male</td>\n",
       "      <td>22.0</td>\n",
       "      <td>1</td>\n",
       "      <td>0</td>\n",
       "      <td>A/5 21171</td>\n",
       "      <td>7.2500</td>\n",
       "      <td>NaN</td>\n",
       "      <td>S</td>\n",
       "    </tr>\n",
       "    <tr>\n",
       "      <th>1</th>\n",
       "      <td>2</td>\n",
       "      <td>1</td>\n",
       "      <td>1</td>\n",
       "      <td>Cumings, Mrs. John Bradley (Florence Briggs Th...</td>\n",
       "      <td>female</td>\n",
       "      <td>38.0</td>\n",
       "      <td>1</td>\n",
       "      <td>0</td>\n",
       "      <td>PC 17599</td>\n",
       "      <td>71.2833</td>\n",
       "      <td>C85</td>\n",
       "      <td>C</td>\n",
       "    </tr>\n",
       "    <tr>\n",
       "      <th>2</th>\n",
       "      <td>3</td>\n",
       "      <td>1</td>\n",
       "      <td>3</td>\n",
       "      <td>Heikkinen, Miss. Laina</td>\n",
       "      <td>female</td>\n",
       "      <td>26.0</td>\n",
       "      <td>0</td>\n",
       "      <td>0</td>\n",
       "      <td>STON/O2. 3101282</td>\n",
       "      <td>7.9250</td>\n",
       "      <td>NaN</td>\n",
       "      <td>S</td>\n",
       "    </tr>\n",
       "    <tr>\n",
       "      <th>3</th>\n",
       "      <td>4</td>\n",
       "      <td>1</td>\n",
       "      <td>1</td>\n",
       "      <td>Futrelle, Mrs. Jacques Heath (Lily May Peel)</td>\n",
       "      <td>female</td>\n",
       "      <td>35.0</td>\n",
       "      <td>1</td>\n",
       "      <td>0</td>\n",
       "      <td>113803</td>\n",
       "      <td>53.1000</td>\n",
       "      <td>C123</td>\n",
       "      <td>S</td>\n",
       "    </tr>\n",
       "    <tr>\n",
       "      <th>4</th>\n",
       "      <td>5</td>\n",
       "      <td>0</td>\n",
       "      <td>3</td>\n",
       "      <td>Allen, Mr. William Henry</td>\n",
       "      <td>male</td>\n",
       "      <td>35.0</td>\n",
       "      <td>0</td>\n",
       "      <td>0</td>\n",
       "      <td>373450</td>\n",
       "      <td>8.0500</td>\n",
       "      <td>NaN</td>\n",
       "      <td>S</td>\n",
       "    </tr>\n",
       "  </tbody>\n",
       "</table>\n",
       "</div>"
      ],
      "text/plain": [
       "   PassengerId  Survived  Pclass  \\\n",
       "0            1         0       3   \n",
       "1            2         1       1   \n",
       "2            3         1       3   \n",
       "3            4         1       1   \n",
       "4            5         0       3   \n",
       "\n",
       "                                                Name     Sex   Age  SibSp  \\\n",
       "0                            Braund, Mr. Owen Harris    male  22.0      1   \n",
       "1  Cumings, Mrs. John Bradley (Florence Briggs Th...  female  38.0      1   \n",
       "2                             Heikkinen, Miss. Laina  female  26.0      0   \n",
       "3       Futrelle, Mrs. Jacques Heath (Lily May Peel)  female  35.0      1   \n",
       "4                           Allen, Mr. William Henry    male  35.0      0   \n",
       "\n",
       "   Parch            Ticket     Fare Cabin Embarked  \n",
       "0      0         A/5 21171   7.2500   NaN        S  \n",
       "1      0          PC 17599  71.2833   C85        C  \n",
       "2      0  STON/O2. 3101282   7.9250   NaN        S  \n",
       "3      0            113803  53.1000  C123        S  \n",
       "4      0            373450   8.0500   NaN        S  "
      ]
     },
     "execution_count": 209,
     "metadata": {},
     "output_type": "execute_result"
    }
   ],
   "source": [
    "df = pd.read_csv(\"../../Aulas/Modulo6/titanic.csv\")\n",
    "\n",
    "print(df.shape)\n",
    "\n",
    "df.head()"
   ]
  },
  {
   "cell_type": "markdown",
   "id": "0815275b",
   "metadata": {},
   "source": [
    "No conjunto de dados titanic temos 891 linhas (observações) e 12 colunas (características)"
   ]
  },
  {
   "cell_type": "markdown",
   "id": "c0c3f698",
   "metadata": {},
   "source": [
    "#### b) Calcular a probabilidade de sobreviver sendo homem e sendo mulher"
   ]
  },
  {
   "cell_type": "code",
   "execution_count": 210,
   "id": "6ecc9d4a",
   "metadata": {},
   "outputs": [
    {
     "name": "stdout",
     "output_type": "stream",
     "text": [
      "Probabilidade de sobreviver sendo homem: 19.0\n",
      "Probabilidade de sobreviver sendo mulher: 74.0\n"
     ]
    }
   ],
   "source": [
    "# Codigo explicado:\n",
    "# df[(df.Survived==1) & ( df.Sex=='male')].shape[0] => quantidade de homens que sobreviveram\n",
    "# df[df.Sex=='male'].shape[0] => quantidade total de homens\n",
    "# round(prob_h,2) => arredonda o numero assumindo 2 casas decimais \n",
    "# *100 => multiplica o valor decimal por 100 para obter em porcentagem\n",
    "\n",
    "prob_homem = df[(df.Survived==1) & ( df.Sex=='male')].shape[0] / df[df.Sex=='male'].shape[0]\n",
    "prob_mulher = df[(df.Survived==1) & ( df.Sex=='female')].shape[0] / df[df.Sex=='female'].shape[0]\n",
    "\n",
    "print(\"Probabilidade de sobreviver sendo homem:\", (round(prob_homem,2)*100)) \n",
    "print(\"Probabilidade de sobreviver sendo mulher:\", (round(prob_mulher,2)*100))"
   ]
  },
  {
   "cell_type": "code",
   "execution_count": 211,
   "id": "1faae10c-a8bf-42ec-91b7-28d3f112beac",
   "metadata": {},
   "outputs": [
    {
     "name": "stdout",
     "output_type": "stream",
     "text": [
      "Sex   Embarked\n",
      "male  C           29\n",
      "      Q            3\n",
      "      S           77\n",
      "dtype: int64\n"
     ]
    }
   ],
   "source": [
    "#Agrupando os dados de sobreviventes e sexo pelo local de embarque\n",
    "\n",
    "#HOMEM\n",
    "df_qtd_sob_por_local_homem = df[(df.Survived==1) & (df.Sex=='male') & (df.Embarked)] #quantidade de homens que sobreviveram e seu local de embarque\n",
    "df_qtd_sob_por_local_homem[['Survived', 'Sex', 'Embarked']].sort_values(by=['Embarked'], ascending=True)\n",
    "\n",
    "df_embarked_male = df_qtd_sob_por_local_homem.groupby('Embarked').apply(lambda x: x.Sex.value_counts()).unstack()\n",
    "#df_embarked_male_pct = df_qtd_sob_por_local_homem.groupby('Embarked').apply(lambda x: x.Sex.value_counts()/x.shape[0]).unstack()\n",
    "print(df_embarked_male)"
   ]
  },
  {
   "cell_type": "code",
   "execution_count": 212,
   "id": "9432b3dd-cf62-4c1a-97f8-e0b65cf185f0",
   "metadata": {},
   "outputs": [
    {
     "name": "stdout",
     "output_type": "stream",
     "text": [
      "Sex     Embarked\n",
      "female  C            64\n",
      "        Q            27\n",
      "        S           140\n",
      "dtype: int64\n"
     ]
    }
   ],
   "source": [
    "#Agrupando os dados de sobreviventes e sexo pelo local de embarque\n",
    "\n",
    "#MULHER\n",
    "df_qtd_sob_por_local_mulher = df[(df.Survived==1) & (df.Sex=='female') & (df.Embarked)] #quantidade de homens que sobreviveram e seu local de embarque\n",
    "df_qtd_sob_por_local_mulher[['Survived', 'Sex', 'Embarked']].sort_values(by=['Embarked'], ascending=True)\n",
    "\n",
    "df_embarked_female = df_qtd_sob_por_local_mulher.groupby('Embarked').apply(lambda x: x.Sex.value_counts()).unstack()\n",
    "#df_embarked_female_pct = df_qtd_sob_por_local_mulher.groupby('Embarked').apply(lambda x: x.Sex.value_counts()/x.shape[0]).unstack()\n",
    "print(df_embarked_female)"
   ]
  },
  {
   "cell_type": "markdown",
   "id": "29652924-042a-442d-9233-707ed00428bd",
   "metadata": {},
   "source": [
    "------"
   ]
  },
  {
   "cell_type": "markdown",
   "id": "25e91a6c",
   "metadata": {},
   "source": [
    "**Qual sua conclusão a partir dos dados acima?**\n",
    "\n",
    "R: O olhar apenas para as variáveis de sobreviventes e sexo, logo de cara não foi convincente para mim. Por isso, levantei o número de sobrevivênte por área de embarque.\n",
    "\n",
    "**Você vê algum indicativo de relação entre ter sobrevivido e o sexo?**\n",
    "\n",
    "R: Entre sobrevivente e sexo não!. Mas, adicionando a variável de local de embarque, podemos ver que quem embarcou na área S, teve um maior número de sobreviventes em relação 'a quem embarcou nas outras áreas, isso para ambos sexos. E também, vemos que, por embarcar mais mulheres na área S, por isso, teve um maior número de sobrevivêntes mulheres.\n",
    "\n",
    "⚠Claro que isso, olhando apenas os números, sabemos que em momento de emergência também há priorização de salavamento para mulheres e crianças, entre outros fatores de gestão militar e humano."
   ]
  },
  {
   "cell_type": "markdown",
   "id": "2f282830-ccc4-4a6a-b094-9db6a7b907fb",
   "metadata": {},
   "source": [
    "------"
   ]
  },
  {
   "cell_type": "code",
   "execution_count": 213,
   "id": "c19f794e",
   "metadata": {},
   "outputs": [
    {
     "data": {
      "text/html": [
       "<div>\n",
       "<style scoped>\n",
       "    .dataframe tbody tr th:only-of-type {\n",
       "        vertical-align: middle;\n",
       "    }\n",
       "\n",
       "    .dataframe tbody tr th {\n",
       "        vertical-align: top;\n",
       "    }\n",
       "\n",
       "    .dataframe thead th {\n",
       "        text-align: right;\n",
       "    }\n",
       "</style>\n",
       "<table border=\"1\" class=\"dataframe\">\n",
       "  <thead>\n",
       "    <tr style=\"text-align: right;\">\n",
       "      <th></th>\n",
       "      <th>0</th>\n",
       "      <th>1</th>\n",
       "    </tr>\n",
       "    <tr>\n",
       "      <th>Sex</th>\n",
       "      <th></th>\n",
       "      <th></th>\n",
       "    </tr>\n",
       "  </thead>\n",
       "  <tbody>\n",
       "    <tr>\n",
       "      <th>female</th>\n",
       "      <td>81</td>\n",
       "      <td>233</td>\n",
       "    </tr>\n",
       "    <tr>\n",
       "      <th>male</th>\n",
       "      <td>468</td>\n",
       "      <td>109</td>\n",
       "    </tr>\n",
       "  </tbody>\n",
       "</table>\n",
       "</div>"
      ],
      "text/plain": [
       "          0    1\n",
       "Sex             \n",
       "female   81  233\n",
       "male    468  109"
      ]
     },
     "execution_count": 213,
     "metadata": {},
     "output_type": "execute_result"
    }
   ],
   "source": [
    "# Usando o código abaixo você consegue obter a quantidade de mulheres e homens que sobreviveram (1) e morreram (0)\n",
    "# Gera tabela de frequencia absoluta!\n",
    "\n",
    "df.groupby(['Sex']).apply(lambda x: x.Survived.value_counts()).unstack()"
   ]
  },
  {
   "cell_type": "code",
   "execution_count": 214,
   "id": "51aafd6c",
   "metadata": {},
   "outputs": [
    {
     "data": {
      "text/html": [
       "<div>\n",
       "<style scoped>\n",
       "    .dataframe tbody tr th:only-of-type {\n",
       "        vertical-align: middle;\n",
       "    }\n",
       "\n",
       "    .dataframe tbody tr th {\n",
       "        vertical-align: top;\n",
       "    }\n",
       "\n",
       "    .dataframe thead th {\n",
       "        text-align: right;\n",
       "    }\n",
       "</style>\n",
       "<table border=\"1\" class=\"dataframe\">\n",
       "  <thead>\n",
       "    <tr style=\"text-align: right;\">\n",
       "      <th></th>\n",
       "      <th>0</th>\n",
       "      <th>1</th>\n",
       "    </tr>\n",
       "    <tr>\n",
       "      <th>Sex</th>\n",
       "      <th></th>\n",
       "      <th></th>\n",
       "    </tr>\n",
       "  </thead>\n",
       "  <tbody>\n",
       "    <tr>\n",
       "      <th>female</th>\n",
       "      <td>0.257962</td>\n",
       "      <td>0.742038</td>\n",
       "    </tr>\n",
       "    <tr>\n",
       "      <th>male</th>\n",
       "      <td>0.811092</td>\n",
       "      <td>0.188908</td>\n",
       "    </tr>\n",
       "  </tbody>\n",
       "</table>\n",
       "</div>"
      ],
      "text/plain": [
       "               0         1\n",
       "Sex                       \n",
       "female  0.257962  0.742038\n",
       "male    0.811092  0.188908"
      ]
     },
     "execution_count": 214,
     "metadata": {},
     "output_type": "execute_result"
    }
   ],
   "source": [
    "# Com uma simples modificação no código acima você passa a ter os valores em percentual\n",
    "# Gera tabela de frequencia relativa!\n",
    "\n",
    "df.groupby('Sex').apply(lambda x: x.Survived.value_counts()/x.shape[0]).unstack()"
   ]
  },
  {
   "cell_type": "markdown",
   "id": "b5f09d9a",
   "metadata": {},
   "source": [
    "#### c) Construção de gráfico\n",
    "\n",
    "Estude o código abaixo!\n",
    "\n",
    "Todo o código foi demonstrado durante a aula!"
   ]
  },
  {
   "cell_type": "code",
   "execution_count": 215,
   "id": "592a57cf",
   "metadata": {},
   "outputs": [
    {
     "data": {
      "image/png": "[encoded data removed]",
      "text/plain": [
       "<Figure size 432x288 with 1 Axes>"
      ]
     },
     "metadata": {
      "needs_background": "light"
     },
     "output_type": "display_data"
    },
    {
     "data": {
      "image/png": "[encoded data removed]",
      "text/plain": [
       "<Figure size 432x288 with 1 Axes>"
      ]
     },
     "metadata": {
      "needs_background": "light"
     },
     "output_type": "display_data"
    }
   ],
   "source": [
    "# Codigo apresentado em aula!\n",
    "\n",
    "df_sex = df.groupby('Sex').apply(lambda x: x.Survived.value_counts()).unstack()\n",
    "\n",
    "df_sex_prob = df.groupby('Sex').apply(lambda x: x.Survived.value_counts()/x.shape[0]).unstack()\n",
    "\n",
    "labels = list(df_sex.index) #labels do gráfico de barras\n",
    "\n",
    "morreram = df_sex[0].values #valores para construção do grafico de barras\n",
    "sobreviveram = df_sex[1].values #valores para construção do grafico de barras\n",
    "\n",
    "morreram_prob = df_sex_prob[0].values #valores para construção do grafico de barras\n",
    "sobreviveram_prob= df_sex_prob[1].values #valores para construção do grafico de barras\n",
    "\n",
    "\n",
    "x = np.arange(len(labels))  #localização dos labels\n",
    "width = 0.35  # largura das barras\n",
    "\n",
    "fig, ax = plt.subplots() #construção do frame, criando figura e eixos\n",
    "\n",
    "rects1 = ax.bar(x - width/2, morreram, width, label='Morreram') #valores para construção do gráfico de barras\n",
    "rects2 = ax.bar(x + width/2, sobreviveram, width, label='Sobreviveram')\n",
    "\n",
    "# Adicona título no gráfico, legenda nos eixos e no gráfico legenda\n",
    "ax.set_ylabel('Frequência') #legenda eixo y\n",
    "ax.set_title('Distribuição da Survived por Sex') #titulo\n",
    "ax.set_xticks(x) #seta a posição dos labels\n",
    "ax.set_xticklabels(labels) # legenda dos labels do eixo x\n",
    "ax.legend() #legenda do gráfico\n",
    "plt.show()\n",
    "\n",
    "fig, ax1 = plt.subplots()\n",
    "rects3 = ax1.bar(x - width/2, morreram_prob, width, label='Morreram')\n",
    "rects4 = ax1.bar(x + width/2, sobreviveram_prob, width, label='Sobreviveram')\n",
    "\n",
    "ax1.set_ylabel('%')\n",
    "ax1.set_title('Distribuição da Survived por Sex')\n",
    "ax1.set_xticks(x)\n",
    "ax1.set_xticklabels(labels)\n",
    "ax1.legend()\n",
    "plt.show()"
   ]
  },
  {
   "cell_type": "code",
   "execution_count": 216,
   "id": "689d1d7d",
   "metadata": {},
   "outputs": [
    {
     "data": {
      "text/plain": [
       "<AxesSubplot:xlabel='Sex', ylabel='Probability'>"
      ]
     },
     "execution_count": 216,
     "metadata": {},
     "output_type": "execute_result"
    },
    {
     "data": {
      "image/png": "[encoded data removed]",
      "text/plain": [
       "<Figure size 864x360 with 2 Axes>"
      ]
     },
     "metadata": {
      "needs_background": "light"
     },
     "output_type": "display_data"
    }
   ],
   "source": [
    "# Maneira alternativa usando a biblioteca seaborn - NOVO!\n",
    "\n",
    "import seaborn as sns\n",
    "\n",
    "#seaborn é uma biblioteca muito útil para o dia a dia do cientista de dados.\n",
    "# ele possui diferentes tipos de gráficos para visualização estatística.\n",
    "\n",
    "# ref.: https://seaborn.pydata.org/\n",
    "\n",
    "fig, axs = plt.subplots(1,2, figsize=[12,5])\n",
    "\n",
    "sns.histplot(df, x='Sex', hue='Survived', stat='count', multiple='dodge', shrink=0.8, ax=axs[0])\n",
    "\n",
    "#stat='count' : conta a quantidade de cada sexo de acordo com a sobrevivencia\n",
    "\n",
    "sns.histplot(df, x='Sex', hue='Survived', stat='probability', multiple='dodge', shrink=0.8, ax=axs[1])\n",
    "\n",
    "#stat='probability' : calcula a probabilidade de cada sexo de acordo com a sobrevivencia"
   ]
  },
  {
   "cell_type": "markdown",
   "id": "258a9cd2-f957-49c8-a830-6370ee075ff1",
   "metadata": {},
   "source": [
    "------"
   ]
  },
  {
   "cell_type": "markdown",
   "id": "c56646d9",
   "metadata": {},
   "source": [
    "**Qual conclusão você reforça com esses gráficos?**\n",
    "\n",
    "R: A forma visual ainda sim, reforça que somente o sexo em sí, não define se irá sobreviver ou não, mas juntamente com as outras variáveis mencionadas anteriormente sim, é poss´veil chegar a conclusão que é mais provavel que em casos de emergencia e a localidade possa ajudar no fator do sexo feminino sobreviver."
   ]
  },
  {
   "cell_type": "markdown",
   "id": "1e163ae0-4575-42ae-8775-8366d2077d13",
   "metadata": {},
   "source": [
    "------"
   ]
  },
  {
   "cell_type": "markdown",
   "id": "e13195f2",
   "metadata": {},
   "source": [
    "#### d) Calcular o chi-quadrado\n",
    "\n",
    "1) obter a distribuicao geral da variavel Survived;\n",
    "\n",
    "2) obter a tabela de frequencia para os dados observados:\n",
    "\n",
    "    - tabela de frequencia absoluta;\n",
    "    - tabela de frequencia relativa.\n",
    "\n",
    "3) adicionar o total na tabela de frequencia absoluta;\n",
    "\n",
    "4) obter a tabela de frequência esperada:\n",
    "\n",
    "    - caso as duas variáveis não tivesse relação.\n",
    "    \n",
    "5) cálculo do chi-quadrado:\n",
    "\n",
    "Observado menos o esperado - desvio: $o_i - e_i$\n",
    "    \n",
    "Desvio ao quadrado: $\\sigma^2 = (o_i - e_i)^2$\n",
    "\n",
    "Chi-quadrado: $X^2 = (o_i - e_i)^2 / e_i$\n",
    "   "
   ]
  },
  {
   "cell_type": "code",
   "execution_count": 217,
   "id": "550d27bd",
   "metadata": {},
   "outputs": [
    {
     "data": {
      "text/html": [
       "<div>\n",
       "<style scoped>\n",
       "    .dataframe tbody tr th:only-of-type {\n",
       "        vertical-align: middle;\n",
       "    }\n",
       "\n",
       "    .dataframe tbody tr th {\n",
       "        vertical-align: top;\n",
       "    }\n",
       "\n",
       "    .dataframe thead th {\n",
       "        text-align: right;\n",
       "    }\n",
       "</style>\n",
       "<table border=\"1\" class=\"dataframe\">\n",
       "  <thead>\n",
       "    <tr style=\"text-align: right;\">\n",
       "      <th></th>\n",
       "      <th>Survived</th>\n",
       "    </tr>\n",
       "  </thead>\n",
       "  <tbody>\n",
       "    <tr>\n",
       "      <th>0</th>\n",
       "      <td>0.62</td>\n",
       "    </tr>\n",
       "    <tr>\n",
       "      <th>1</th>\n",
       "      <td>0.38</td>\n",
       "    </tr>\n",
       "  </tbody>\n",
       "</table>\n",
       "</div>"
      ],
      "text/plain": [
       "   Survived\n",
       "0      0.62\n",
       "1      0.38"
      ]
     },
     "execution_count": 217,
     "metadata": {},
     "output_type": "execute_result"
    }
   ],
   "source": [
    "# 1) Distribuição geral da variável survived como já observado antes:\n",
    "\n",
    "dist_geral = pd.DataFrame(round(df.Survived.value_counts()/df.shape[0],2))\n",
    "\n",
    "dist_geral"
   ]
  },
  {
   "cell_type": "code",
   "execution_count": 218,
   "id": "4d45edde",
   "metadata": {},
   "outputs": [
    {
     "data": {
      "text/html": [
       "<div>\n",
       "<style scoped>\n",
       "    .dataframe tbody tr th:only-of-type {\n",
       "        vertical-align: middle;\n",
       "    }\n",
       "\n",
       "    .dataframe tbody tr th {\n",
       "        vertical-align: top;\n",
       "    }\n",
       "\n",
       "    .dataframe thead th {\n",
       "        text-align: right;\n",
       "    }\n",
       "</style>\n",
       "<table border=\"1\" class=\"dataframe\">\n",
       "  <thead>\n",
       "    <tr style=\"text-align: right;\">\n",
       "      <th></th>\n",
       "      <th>0</th>\n",
       "      <th>1</th>\n",
       "    </tr>\n",
       "    <tr>\n",
       "      <th>Sex</th>\n",
       "      <th></th>\n",
       "      <th></th>\n",
       "    </tr>\n",
       "  </thead>\n",
       "  <tbody>\n",
       "    <tr>\n",
       "      <th>female</th>\n",
       "      <td>0.257962</td>\n",
       "      <td>0.742038</td>\n",
       "    </tr>\n",
       "    <tr>\n",
       "      <th>male</th>\n",
       "      <td>0.811092</td>\n",
       "      <td>0.188908</td>\n",
       "    </tr>\n",
       "  </tbody>\n",
       "</table>\n",
       "</div>"
      ],
      "text/plain": [
       "               0         1\n",
       "Sex                       \n",
       "female  0.257962  0.742038\n",
       "male    0.811092  0.188908"
      ]
     },
     "execution_count": 218,
     "metadata": {},
     "output_type": "execute_result"
    }
   ],
   "source": [
    "# 2) Tabelas de frequencia absoluta e relativa:\n",
    "\n",
    "df_sex = df.groupby('Sex').apply(lambda x: x.Survived.value_counts()).unstack()\n",
    "\n",
    "df_sex_prob = df.groupby('Sex').apply(lambda x: x.Survived.value_counts()/x.shape[0]).unstack()\n",
    "\n",
    "df_sex_prob"
   ]
  },
  {
   "cell_type": "code",
   "execution_count": 219,
   "id": "b664a7b2",
   "metadata": {},
   "outputs": [
    {
     "data": {
      "text/html": [
       "<div>\n",
       "<style scoped>\n",
       "    .dataframe tbody tr th:only-of-type {\n",
       "        vertical-align: middle;\n",
       "    }\n",
       "\n",
       "    .dataframe tbody tr th {\n",
       "        vertical-align: top;\n",
       "    }\n",
       "\n",
       "    .dataframe thead th {\n",
       "        text-align: right;\n",
       "    }\n",
       "</style>\n",
       "<table border=\"1\" class=\"dataframe\">\n",
       "  <thead>\n",
       "    <tr style=\"text-align: right;\">\n",
       "      <th></th>\n",
       "      <th>0</th>\n",
       "      <th>1</th>\n",
       "      <th>total</th>\n",
       "    </tr>\n",
       "    <tr>\n",
       "      <th>Sex</th>\n",
       "      <th></th>\n",
       "      <th></th>\n",
       "      <th></th>\n",
       "    </tr>\n",
       "  </thead>\n",
       "  <tbody>\n",
       "    <tr>\n",
       "      <th>female</th>\n",
       "      <td>81</td>\n",
       "      <td>233</td>\n",
       "      <td>314</td>\n",
       "    </tr>\n",
       "    <tr>\n",
       "      <th>male</th>\n",
       "      <td>468</td>\n",
       "      <td>109</td>\n",
       "      <td>577</td>\n",
       "    </tr>\n",
       "  </tbody>\n",
       "</table>\n",
       "</div>"
      ],
      "text/plain": [
       "          0    1  total\n",
       "Sex                    \n",
       "female   81  233    314\n",
       "male    468  109    577"
      ]
     },
     "execution_count": 219,
     "metadata": {},
     "output_type": "execute_result"
    }
   ],
   "source": [
    "# 3) Adicionar o total para cada sexo na tabela de frequência absoluta:\n",
    "\n",
    "df_sex['total'] = df_sex[[0]].values + df_sex[[1]].values \n",
    "\n",
    "df_sex"
   ]
  },
  {
   "cell_type": "code",
   "execution_count": 220,
   "id": "fc8ec0c7",
   "metadata": {},
   "outputs": [
    {
     "data": {
      "text/html": [
       "<div>\n",
       "<style scoped>\n",
       "    .dataframe tbody tr th:only-of-type {\n",
       "        vertical-align: middle;\n",
       "    }\n",
       "\n",
       "    .dataframe tbody tr th {\n",
       "        vertical-align: top;\n",
       "    }\n",
       "\n",
       "    .dataframe thead th {\n",
       "        text-align: right;\n",
       "    }\n",
       "</style>\n",
       "<table border=\"1\" class=\"dataframe\">\n",
       "  <thead>\n",
       "    <tr style=\"text-align: right;\">\n",
       "      <th></th>\n",
       "      <th>0</th>\n",
       "      <th>1</th>\n",
       "    </tr>\n",
       "  </thead>\n",
       "  <tbody>\n",
       "    <tr>\n",
       "      <th>0</th>\n",
       "      <td>194.68</td>\n",
       "      <td>119.32</td>\n",
       "    </tr>\n",
       "    <tr>\n",
       "      <th>1</th>\n",
       "      <td>357.74</td>\n",
       "      <td>219.26</td>\n",
       "    </tr>\n",
       "  </tbody>\n",
       "</table>\n",
       "</div>"
      ],
      "text/plain": [
       "        0       1\n",
       "0  194.68  119.32\n",
       "1  357.74  219.26"
      ]
     },
     "execution_count": 220,
     "metadata": {},
     "output_type": "execute_result"
    }
   ],
   "source": [
    "# 4) Tabela de frequência esperada:\n",
    "\n",
    "esp_0 = df_sex.total.values * dist_geral.iloc[0].values\n",
    "esp_1 = df_sex.total.values * dist_geral.iloc[1].values\n",
    "\n",
    "df_esp = pd.DataFrame(np.c_[esp_0,esp_1])\n",
    "\n",
    "df_esp"
   ]
  },
  {
   "cell_type": "code",
   "execution_count": 221,
   "id": "e9127ebd",
   "metadata": {},
   "outputs": [
    {
     "name": "stdout",
     "output_type": "stream",
     "text": [
      "[[-113.68  113.68]\n",
      " [ 110.26 -110.26]]\n",
      "\n",
      "O chi-quadrado de Pearson é de: 264.11838848422303\n"
     ]
    }
   ],
   "source": [
    "# 5) Cálculo do chi-quadrado\n",
    "\n",
    "# calculo dos desvios:\n",
    "\n",
    "desvios = (df_sex.iloc[:,:2].values - df_esp.values)\n",
    "\n",
    "print(desvios)\n",
    "\n",
    "# calculo dos desvios ao quadrado:\n",
    "\n",
    "desvios_ao_quadrado = desvios**2\n",
    "\n",
    "# calculo do chi-quadrado:\n",
    "\n",
    "chi_quad = sum(sum(desvios_ao_quadrado/df_esp.values))\n",
    "\n",
    "print(\"\\nO chi-quadrado de Pearson é de:\", chi_quad)\n"
   ]
  },
  {
   "cell_type": "markdown",
   "id": "f0b2db00-9e2d-471d-ab80-bf34cb4f3f47",
   "metadata": {},
   "source": [
    "------"
   ]
  },
  {
   "cell_type": "markdown",
   "id": "a1b44d46",
   "metadata": {},
   "source": [
    "**O que significa o valor do chi-quadrado de Pearson?**\n",
    "\n",
    "R: Resumidamente o chi-quadrado, é uma forma de tirar a diferença entre o real e o esperado e traduzindo em forma numérica.\n",
    "\n",
    "**Quais foram as suas conclusões?**\n",
    "\n",
    "R: Olhando somente para a relação entre o volume do esperado e o real, aparentemente o real foi bem acima, tendo assim uma tendência a ter relação. Mas ao olhar para o chi-quadrado de person, mudei o pensamento, já que praticamente o espero e o real zeram, mostrando que não há uma relação entre sobreviventes e sexo."
   ]
  },
  {
   "cell_type": "markdown",
   "id": "0bae8f7c-6e22-4249-8cbc-6372b31d9ba1",
   "metadata": {},
   "source": [
    "------"
   ]
  },
  {
   "cell_type": "markdown",
   "id": "7082eff9",
   "metadata": {},
   "source": [
    "### Ex3: Use o dataframe df, carregado abaixo, onde cada observação corresponde a uma reclamação feita pelo consumidor, para responder as perguntas abaixo:\n",
    "\n",
    "**Importante**: É interessante que as análises contenham gráficos! No dia-a-dia de um cientista, grande parte do  trabalho é analisar dados e gerar visualizações para apresentá-las.\n",
    "\n",
    "_fonte_ : https://dados.gov.br/dataset/reclamacoes-do-consumidor-gov-br1 (Nesse link estão os dicionário de dados, caso possua dúvidas sobre base)."
   ]
  },
  {
   "cell_type": "code",
   "execution_count": 222,
   "id": "0899a06b",
   "metadata": {},
   "outputs": [
    {
     "data": {
      "text/html": [
       "<div>\n",
       "<style scoped>\n",
       "    .dataframe tbody tr th:only-of-type {\n",
       "        vertical-align: middle;\n",
       "    }\n",
       "\n",
       "    .dataframe tbody tr th {\n",
       "        vertical-align: top;\n",
       "    }\n",
       "\n",
       "    .dataframe thead th {\n",
       "        text-align: right;\n",
       "    }\n",
       "</style>\n",
       "<table border=\"1\" class=\"dataframe\">\n",
       "  <thead>\n",
       "    <tr style=\"text-align: right;\">\n",
       "      <th></th>\n",
       "      <th>Gestor</th>\n",
       "      <th>Canal de Origem</th>\n",
       "      <th>Região</th>\n",
       "      <th>UF</th>\n",
       "      <th>Cidade</th>\n",
       "      <th>Sexo</th>\n",
       "      <th>Faixa Etária</th>\n",
       "      <th>Ano Abertura</th>\n",
       "      <th>Mês Abertura</th>\n",
       "      <th>Data Abertura</th>\n",
       "      <th>...</th>\n",
       "      <th>Como Comprou Contratou</th>\n",
       "      <th>Procurou Empresa</th>\n",
       "      <th>Respondida</th>\n",
       "      <th>Situação</th>\n",
       "      <th>Avaliação Reclamação</th>\n",
       "      <th>Nota do Consumidor</th>\n",
       "      <th>Análise da Recusa</th>\n",
       "      <th>Edição de Conteúdo</th>\n",
       "      <th>Interação do Gestor</th>\n",
       "      <th>Total</th>\n",
       "    </tr>\n",
       "  </thead>\n",
       "  <tbody>\n",
       "    <tr>\n",
       "      <th>0</th>\n",
       "      <td>Secretaria Nacional do Consumidor</td>\n",
       "      <td>Não identificado</td>\n",
       "      <td>SE</td>\n",
       "      <td>RJ</td>\n",
       "      <td>Itaboraí</td>\n",
       "      <td>M</td>\n",
       "      <td>entre 31 a 40 anos</td>\n",
       "      <td>2014</td>\n",
       "      <td>6</td>\n",
       "      <td>27/06/2014</td>\n",
       "      <td>...</td>\n",
       "      <td>Não comprei / contratei</td>\n",
       "      <td>S</td>\n",
       "      <td>S</td>\n",
       "      <td>Finalizada não avaliada</td>\n",
       "      <td>Não Avaliada</td>\n",
       "      <td>NaN</td>\n",
       "      <td>NaN</td>\n",
       "      <td>N</td>\n",
       "      <td>N</td>\n",
       "      <td>1</td>\n",
       "    </tr>\n",
       "    <tr>\n",
       "      <th>1</th>\n",
       "      <td>Instituto Estadual de Proteção e Defesa do Con...</td>\n",
       "      <td>Não identificado</td>\n",
       "      <td>SE</td>\n",
       "      <td>ES</td>\n",
       "      <td>Serra</td>\n",
       "      <td>F</td>\n",
       "      <td>entre 31 a 40 anos</td>\n",
       "      <td>2014</td>\n",
       "      <td>6</td>\n",
       "      <td>11/06/2014</td>\n",
       "      <td>...</td>\n",
       "      <td>Internet</td>\n",
       "      <td>S</td>\n",
       "      <td>S</td>\n",
       "      <td>Finalizada avaliada</td>\n",
       "      <td>Não Resolvida</td>\n",
       "      <td>1.0</td>\n",
       "      <td>NaN</td>\n",
       "      <td>N</td>\n",
       "      <td>N</td>\n",
       "      <td>1</td>\n",
       "    </tr>\n",
       "    <tr>\n",
       "      <th>2</th>\n",
       "      <td>Secretaria Nacional do Consumidor</td>\n",
       "      <td>Não identificado</td>\n",
       "      <td>SE</td>\n",
       "      <td>RJ</td>\n",
       "      <td>Volta Redonda</td>\n",
       "      <td>M</td>\n",
       "      <td>entre 31 a 40 anos</td>\n",
       "      <td>2014</td>\n",
       "      <td>6</td>\n",
       "      <td>27/06/2014</td>\n",
       "      <td>...</td>\n",
       "      <td>Internet</td>\n",
       "      <td>S</td>\n",
       "      <td>S</td>\n",
       "      <td>Finalizada avaliada</td>\n",
       "      <td>Resolvida</td>\n",
       "      <td>5.0</td>\n",
       "      <td>NaN</td>\n",
       "      <td>N</td>\n",
       "      <td>N</td>\n",
       "      <td>1</td>\n",
       "    </tr>\n",
       "    <tr>\n",
       "      <th>3</th>\n",
       "      <td>Instituto de Promoção e Defesa do Cidadão e Co...</td>\n",
       "      <td>Não identificado</td>\n",
       "      <td>NE</td>\n",
       "      <td>MA</td>\n",
       "      <td>São Luís</td>\n",
       "      <td>F</td>\n",
       "      <td>entre 31 a 40 anos</td>\n",
       "      <td>2014</td>\n",
       "      <td>5</td>\n",
       "      <td>29/05/2014</td>\n",
       "      <td>...</td>\n",
       "      <td>Não comprei / contratei</td>\n",
       "      <td>S</td>\n",
       "      <td>S</td>\n",
       "      <td>Finalizada avaliada</td>\n",
       "      <td>Resolvida</td>\n",
       "      <td>5.0</td>\n",
       "      <td>NaN</td>\n",
       "      <td>N</td>\n",
       "      <td>N</td>\n",
       "      <td>1</td>\n",
       "    </tr>\n",
       "    <tr>\n",
       "      <th>4</th>\n",
       "      <td>Secretaria de Desenvolvimento Social e Direito...</td>\n",
       "      <td>Não identificado</td>\n",
       "      <td>NE</td>\n",
       "      <td>PE</td>\n",
       "      <td>Recife</td>\n",
       "      <td>M</td>\n",
       "      <td>entre 21 a 30 anos</td>\n",
       "      <td>2014</td>\n",
       "      <td>6</td>\n",
       "      <td>30/06/2014</td>\n",
       "      <td>...</td>\n",
       "      <td>Internet</td>\n",
       "      <td>S</td>\n",
       "      <td>S</td>\n",
       "      <td>Finalizada não avaliada</td>\n",
       "      <td>Não Avaliada</td>\n",
       "      <td>NaN</td>\n",
       "      <td>NaN</td>\n",
       "      <td>N</td>\n",
       "      <td>N</td>\n",
       "      <td>1</td>\n",
       "    </tr>\n",
       "  </tbody>\n",
       "</table>\n",
       "<p>5 rows × 38 columns</p>\n",
       "</div>"
      ],
      "text/plain": [
       "                                              Gestor   Canal de Origem Região  \\\n",
       "0                  Secretaria Nacional do Consumidor  Não identificado     SE   \n",
       "1  Instituto Estadual de Proteção e Defesa do Con...  Não identificado     SE   \n",
       "2                  Secretaria Nacional do Consumidor  Não identificado     SE   \n",
       "3  Instituto de Promoção e Defesa do Cidadão e Co...  Não identificado     NE   \n",
       "4  Secretaria de Desenvolvimento Social e Direito...  Não identificado     NE   \n",
       "\n",
       "   UF         Cidade Sexo        Faixa Etária  Ano Abertura  Mês Abertura  \\\n",
       "0  RJ       Itaboraí    M  entre 31 a 40 anos          2014             6   \n",
       "1  ES          Serra    F  entre 31 a 40 anos          2014             6   \n",
       "2  RJ  Volta Redonda    M  entre 31 a 40 anos          2014             6   \n",
       "3  MA       São Luís    F  entre 31 a 40 anos          2014             5   \n",
       "4  PE         Recife    M  entre 21 a 30 anos          2014             6   \n",
       "\n",
       "  Data Abertura  ...   Como Comprou Contratou Procurou Empresa Respondida  \\\n",
       "0    27/06/2014  ...  Não comprei / contratei                S          S   \n",
       "1    11/06/2014  ...                 Internet                S          S   \n",
       "2    27/06/2014  ...                 Internet                S          S   \n",
       "3    29/05/2014  ...  Não comprei / contratei                S          S   \n",
       "4    30/06/2014  ...                 Internet                S          S   \n",
       "\n",
       "                  Situação Avaliação Reclamação Nota do Consumidor  \\\n",
       "0  Finalizada não avaliada         Não Avaliada                NaN   \n",
       "1      Finalizada avaliada        Não Resolvida                1.0   \n",
       "2      Finalizada avaliada            Resolvida                5.0   \n",
       "3      Finalizada avaliada            Resolvida                5.0   \n",
       "4  Finalizada não avaliada         Não Avaliada                NaN   \n",
       "\n",
       "  Análise da Recusa Edição de Conteúdo Interação do Gestor Total  \n",
       "0               NaN                  N                   N     1  \n",
       "1               NaN                  N                   N     1  \n",
       "2               NaN                  N                   N     1  \n",
       "3               NaN                  N                   N     1  \n",
       "4               NaN                  N                   N     1  \n",
       "\n",
       "[5 rows x 38 columns]"
      ]
     },
     "execution_count": 222,
     "metadata": {},
     "output_type": "execute_result"
    }
   ],
   "source": [
    "import pandas as pd\n",
    "\n",
    "df = pd.read_csv(\"dadosgovbr---2014.csv\",sep = ';', encoding=\"latin-1\")\n",
    "\n",
    "df.head()"
   ]
  },
  {
   "cell_type": "code",
   "execution_count": 223,
   "id": "ce7ff63f-816e-4bf0-a955-a8c0d34965f3",
   "metadata": {},
   "outputs": [
    {
     "data": {
      "text/plain": [
       "Gestor                     object\n",
       "Canal de Origem            object\n",
       "Região                     object\n",
       "UF                         object\n",
       "Cidade                     object\n",
       "Sexo                       object\n",
       "Faixa Etária               object\n",
       "Ano Abertura                int64\n",
       "Mês Abertura                int64\n",
       "Data Abertura              object\n",
       "Hora Abertura              object\n",
       "Data Resposta              object\n",
       "Hora Resposta              object\n",
       "Data Análise               object\n",
       "Hora Análise               object\n",
       "Data Recusa                object\n",
       "Hora Recusa                object\n",
       "Data Finalização           object\n",
       "Hora Finalização           object\n",
       "Prazo Resposta             object\n",
       "Prazo Analise Gestor      float64\n",
       "Tempo Resposta            float64\n",
       "Nome Fantasia              object\n",
       "Segmento de Mercado        object\n",
       "Área                       object\n",
       "Assunto                    object\n",
       "Grupo Problema             object\n",
       "Problema                   object\n",
       "Como Comprou Contratou     object\n",
       "Procurou Empresa           object\n",
       "Respondida                 object\n",
       "Situação                   object\n",
       "Avaliação Reclamação       object\n",
       "Nota do Consumidor        float64\n",
       "Análise da Recusa          object\n",
       "Edição de Conteúdo         object\n",
       "Interação do Gestor        object\n",
       "Total                       int64\n",
       "dtype: object"
      ]
     },
     "execution_count": 223,
     "metadata": {},
     "output_type": "execute_result"
    }
   ],
   "source": [
    "df.dtypes"
   ]
  },
  {
   "cell_type": "markdown",
   "id": "97b0b01a-f160-4189-900b-dc4018b8e932",
   "metadata": {},
   "source": [
    "### 1 - Qual o número de reclamações por Estado?\n",
    "\n",
    "    - Calcular a quantidade de reclamações de acordo com os estados.\n"
   ]
  },
  {
   "cell_type": "code",
   "execution_count": 253,
   "id": "0a4707d3-858a-4cd7-9603-f9357f09b06d",
   "metadata": {},
   "outputs": [
    {
     "data": {
      "text/html": [
       "<div>\n",
       "<style scoped>\n",
       "    .dataframe tbody tr th:only-of-type {\n",
       "        vertical-align: middle;\n",
       "    }\n",
       "\n",
       "    .dataframe tbody tr th {\n",
       "        vertical-align: top;\n",
       "    }\n",
       "\n",
       "    .dataframe thead th {\n",
       "        text-align: right;\n",
       "    }\n",
       "</style>\n",
       "<table border=\"1\" class=\"dataframe\">\n",
       "  <thead>\n",
       "    <tr style=\"text-align: right;\">\n",
       "      <th></th>\n",
       "      <th>UF</th>\n",
       "      <th>Reclamações por Estado</th>\n",
       "    </tr>\n",
       "  </thead>\n",
       "  <tbody>\n",
       "    <tr>\n",
       "      <th>0</th>\n",
       "      <td>AC</td>\n",
       "      <td>441</td>\n",
       "    </tr>\n",
       "    <tr>\n",
       "      <th>1</th>\n",
       "      <td>AL</td>\n",
       "      <td>99</td>\n",
       "    </tr>\n",
       "    <tr>\n",
       "      <th>2</th>\n",
       "      <td>AM</td>\n",
       "      <td>279</td>\n",
       "    </tr>\n",
       "    <tr>\n",
       "      <th>3</th>\n",
       "      <td>AP</td>\n",
       "      <td>16</td>\n",
       "    </tr>\n",
       "    <tr>\n",
       "      <th>4</th>\n",
       "      <td>BA</td>\n",
       "      <td>2320</td>\n",
       "    </tr>\n",
       "    <tr>\n",
       "      <th>5</th>\n",
       "      <td>CE</td>\n",
       "      <td>1032</td>\n",
       "    </tr>\n",
       "    <tr>\n",
       "      <th>6</th>\n",
       "      <td>DF</td>\n",
       "      <td>1749</td>\n",
       "    </tr>\n",
       "    <tr>\n",
       "      <th>7</th>\n",
       "      <td>ES</td>\n",
       "      <td>1054</td>\n",
       "    </tr>\n",
       "    <tr>\n",
       "      <th>8</th>\n",
       "      <td>GO</td>\n",
       "      <td>826</td>\n",
       "    </tr>\n",
       "    <tr>\n",
       "      <th>9</th>\n",
       "      <td>MA</td>\n",
       "      <td>1047</td>\n",
       "    </tr>\n",
       "    <tr>\n",
       "      <th>10</th>\n",
       "      <td>MG</td>\n",
       "      <td>3994</td>\n",
       "    </tr>\n",
       "    <tr>\n",
       "      <th>11</th>\n",
       "      <td>MS</td>\n",
       "      <td>501</td>\n",
       "    </tr>\n",
       "    <tr>\n",
       "      <th>12</th>\n",
       "      <td>MT</td>\n",
       "      <td>983</td>\n",
       "    </tr>\n",
       "    <tr>\n",
       "      <th>13</th>\n",
       "      <td>PA</td>\n",
       "      <td>203</td>\n",
       "    </tr>\n",
       "    <tr>\n",
       "      <th>14</th>\n",
       "      <td>PB</td>\n",
       "      <td>314</td>\n",
       "    </tr>\n",
       "    <tr>\n",
       "      <th>15</th>\n",
       "      <td>PE</td>\n",
       "      <td>1563</td>\n",
       "    </tr>\n",
       "    <tr>\n",
       "      <th>16</th>\n",
       "      <td>PI</td>\n",
       "      <td>71</td>\n",
       "    </tr>\n",
       "    <tr>\n",
       "      <th>17</th>\n",
       "      <td>PR</td>\n",
       "      <td>5956</td>\n",
       "    </tr>\n",
       "    <tr>\n",
       "      <th>18</th>\n",
       "      <td>RJ</td>\n",
       "      <td>4690</td>\n",
       "    </tr>\n",
       "    <tr>\n",
       "      <th>19</th>\n",
       "      <td>RN</td>\n",
       "      <td>159</td>\n",
       "    </tr>\n",
       "    <tr>\n",
       "      <th>20</th>\n",
       "      <td>RO</td>\n",
       "      <td>111</td>\n",
       "    </tr>\n",
       "    <tr>\n",
       "      <th>21</th>\n",
       "      <td>RR</td>\n",
       "      <td>23</td>\n",
       "    </tr>\n",
       "    <tr>\n",
       "      <th>22</th>\n",
       "      <td>RS</td>\n",
       "      <td>1883</td>\n",
       "    </tr>\n",
       "    <tr>\n",
       "      <th>23</th>\n",
       "      <td>SC</td>\n",
       "      <td>1397</td>\n",
       "    </tr>\n",
       "    <tr>\n",
       "      <th>24</th>\n",
       "      <td>SE</td>\n",
       "      <td>91</td>\n",
       "    </tr>\n",
       "    <tr>\n",
       "      <th>25</th>\n",
       "      <td>SP</td>\n",
       "      <td>11306</td>\n",
       "    </tr>\n",
       "    <tr>\n",
       "      <th>26</th>\n",
       "      <td>TO</td>\n",
       "      <td>45</td>\n",
       "    </tr>\n",
       "  </tbody>\n",
       "</table>\n",
       "</div>"
      ],
      "text/plain": [
       "    UF  Reclamações por Estado\n",
       "0   AC                     441\n",
       "1   AL                      99\n",
       "2   AM                     279\n",
       "3   AP                      16\n",
       "4   BA                    2320\n",
       "5   CE                    1032\n",
       "6   DF                    1749\n",
       "7   ES                    1054\n",
       "8   GO                     826\n",
       "9   MA                    1047\n",
       "10  MG                    3994\n",
       "11  MS                     501\n",
       "12  MT                     983\n",
       "13  PA                     203\n",
       "14  PB                     314\n",
       "15  PE                    1563\n",
       "16  PI                      71\n",
       "17  PR                    5956\n",
       "18  RJ                    4690\n",
       "19  RN                     159\n",
       "20  RO                     111\n",
       "21  RR                      23\n",
       "22  RS                    1883\n",
       "23  SC                    1397\n",
       "24  SE                      91\n",
       "25  SP                   11306\n",
       "26  TO                      45"
      ]
     },
     "execution_count": 253,
     "metadata": {},
     "output_type": "execute_result"
    }
   ],
   "source": [
    "total_reclamacao_por_estado = df.groupby(['UF'])['Avaliação Reclamação'].count().reset_index(name='Reclamações por Estado')\n",
    "total_reclamacao_por_estado"
   ]
  },
  {
   "cell_type": "code",
   "execution_count": 254,
   "id": "4c24fbfa-f1b3-4b46-80ba-7cb32e42059d",
   "metadata": {},
   "outputs": [
    {
     "data": {
      "text/plain": [
       "<AxesSubplot:xlabel='UF'>"
      ]
     },
     "execution_count": 254,
     "metadata": {},
     "output_type": "execute_result"
    },
    {
     "data": {
      "image/png": "[encoded data removed]",
      "text/plain": [
       "<Figure size 432x288 with 1 Axes>"
      ]
     },
     "metadata": {
      "needs_background": "light"
     },
     "output_type": "display_data"
    }
   ],
   "source": [
    "total_reclamacao_por_estado.plot(x=\"UF\", y=[\"Reclamações por Estado\"], kind=\"bar\")"
   ]
  },
  {
   "cell_type": "markdown",
   "id": "a9c1eb83-fbac-48dc-9bfc-1a75a2e6cddb",
   "metadata": {},
   "source": [
    "### 2 - Qual a quantidade de reclamações por sexo?\n",
    "\n",
    "    - Calcular a quantidade de reclamações de acordo com o sexo do consumidor.\n"
   ]
  },
  {
   "cell_type": "code",
   "execution_count": 255,
   "id": "c531579d-9a36-463a-93ea-d2ce235043e4",
   "metadata": {},
   "outputs": [
    {
     "data": {
      "text/html": [
       "<div>\n",
       "<style scoped>\n",
       "    .dataframe tbody tr th:only-of-type {\n",
       "        vertical-align: middle;\n",
       "    }\n",
       "\n",
       "    .dataframe tbody tr th {\n",
       "        vertical-align: top;\n",
       "    }\n",
       "\n",
       "    .dataframe thead th {\n",
       "        text-align: right;\n",
       "    }\n",
       "</style>\n",
       "<table border=\"1\" class=\"dataframe\">\n",
       "  <thead>\n",
       "    <tr style=\"text-align: right;\">\n",
       "      <th></th>\n",
       "      <th>Sexo</th>\n",
       "      <th>Reclamações por Sexo</th>\n",
       "    </tr>\n",
       "  </thead>\n",
       "  <tbody>\n",
       "    <tr>\n",
       "      <th>0</th>\n",
       "      <td>F</td>\n",
       "      <td>15374</td>\n",
       "    </tr>\n",
       "    <tr>\n",
       "      <th>1</th>\n",
       "      <td>M</td>\n",
       "      <td>26779</td>\n",
       "    </tr>\n",
       "  </tbody>\n",
       "</table>\n",
       "</div>"
      ],
      "text/plain": [
       "  Sexo  Reclamações por Sexo\n",
       "0    F                 15374\n",
       "1    M                 26779"
      ]
     },
     "execution_count": 255,
     "metadata": {},
     "output_type": "execute_result"
    }
   ],
   "source": [
    "total_reclamacao_por_sexo = df.groupby(['Sexo'])['Avaliação Reclamação'].count().reset_index(name='Reclamações por Sexo')\n",
    "total_reclamacao_por_sexo"
   ]
  },
  {
   "cell_type": "code",
   "execution_count": 256,
   "id": "4e286213-6674-41d5-abe8-8ec92463acec",
   "metadata": {},
   "outputs": [
    {
     "data": {
      "text/plain": [
       "<AxesSubplot:xlabel='Sexo'>"
      ]
     },
     "execution_count": 256,
     "metadata": {},
     "output_type": "execute_result"
    },
    {
     "data": {
      "image/png": "[encoded data removed]",
      "text/plain": [
       "<Figure size 432x288 with 1 Axes>"
      ]
     },
     "metadata": {
      "needs_background": "light"
     },
     "output_type": "display_data"
    }
   ],
   "source": [
    "total_reclamacao_por_sexo.plot(x=\"Sexo\", y=[\"Reclamações por Sexo\"], kind=\"bar\")"
   ]
  },
  {
   "cell_type": "markdown",
   "id": "688862a8-0637-47e9-8c48-2efd3cd67828",
   "metadata": {},
   "source": [
    "### 3 - O tempo de resposta tem alguma correlação com a nota do consumidor?\n",
    "\n",
    "    - Verificar a correlação entre o tempo de resposta e a nota atribuída pelo consumidor.\n",
    "    - Importante verificar qual o tipo das duas variáveis para determinar o método estatístico.\n",
    "    - Lembre-se que aqui você estará testando a seguinte hipótese: \n",
    "    \n",
    "        - h0 = o tempo de resposta tem relação direta com a nota do consumidor. (Hipótese nula)\n",
    "        - h1 = o tempo de resposta não tem relação direta com a nota do consumidor. (Hipótese alternativa)\n"
   ]
  },
  {
   "cell_type": "code",
   "execution_count": 257,
   "id": "fe4b08cd-8cd4-44d8-828f-9db138070397",
   "metadata": {},
   "outputs": [
    {
     "data": {
      "text/html": [
       "<div>\n",
       "<style scoped>\n",
       "    .dataframe tbody tr th:only-of-type {\n",
       "        vertical-align: middle;\n",
       "    }\n",
       "\n",
       "    .dataframe tbody tr th {\n",
       "        vertical-align: top;\n",
       "    }\n",
       "\n",
       "    .dataframe thead th {\n",
       "        text-align: right;\n",
       "    }\n",
       "</style>\n",
       "<table border=\"1\" class=\"dataframe\">\n",
       "  <thead>\n",
       "    <tr style=\"text-align: right;\">\n",
       "      <th></th>\n",
       "      <th>Nota do Consumidor</th>\n",
       "      <th>Tempo de Resposta em Dias</th>\n",
       "    </tr>\n",
       "  </thead>\n",
       "  <tbody>\n",
       "    <tr>\n",
       "      <th>0</th>\n",
       "      <td>1.0</td>\n",
       "      <td>9825</td>\n",
       "    </tr>\n",
       "    <tr>\n",
       "      <th>1</th>\n",
       "      <td>2.0</td>\n",
       "      <td>1874</td>\n",
       "    </tr>\n",
       "    <tr>\n",
       "      <th>2</th>\n",
       "      <td>3.0</td>\n",
       "      <td>3738</td>\n",
       "    </tr>\n",
       "    <tr>\n",
       "      <th>3</th>\n",
       "      <td>4.0</td>\n",
       "      <td>4303</td>\n",
       "    </tr>\n",
       "    <tr>\n",
       "      <th>4</th>\n",
       "      <td>5.0</td>\n",
       "      <td>8772</td>\n",
       "    </tr>\n",
       "  </tbody>\n",
       "</table>\n",
       "</div>"
      ],
      "text/plain": [
       "   Nota do Consumidor  Tempo de Resposta em Dias\n",
       "0                 1.0                       9825\n",
       "1                 2.0                       1874\n",
       "2                 3.0                       3738\n",
       "3                 4.0                       4303\n",
       "4                 5.0                       8772"
      ]
     },
     "execution_count": 257,
     "metadata": {},
     "output_type": "execute_result"
    }
   ],
   "source": [
    "relacao_tempo_e_nota = df.groupby(['Nota do Consumidor'])['Tempo Resposta'].count().reset_index(name='Tempo de Resposta em Dias')\n",
    "relacao_tempo_e_nota"
   ]
  },
  {
   "cell_type": "code",
   "execution_count": 258,
   "id": "1cb32017-3043-461e-b34e-1829bb95f17d",
   "metadata": {},
   "outputs": [
    {
     "data": {
      "text/plain": [
       "<AxesSubplot:xlabel='Nota do Consumidor'>"
      ]
     },
     "execution_count": 258,
     "metadata": {},
     "output_type": "execute_result"
    },
    {
     "data": {
      "image/png": "[encoded data removed]",
      "text/plain": [
       "<Figure size 432x288 with 1 Axes>"
      ]
     },
     "metadata": {
      "needs_background": "light"
     },
     "output_type": "display_data"
    }
   ],
   "source": [
    "relacao_tempo_e_nota.plot(x=\"Nota do Consumidor\", y=[\"Tempo de Resposta em Dias\"], kind=\"bar\")"
   ]
  },
  {
   "cell_type": "code",
   "execution_count": 259,
   "id": "19fcfdcb-0d4e-4431-8078-5aa236c20bea",
   "metadata": {},
   "outputs": [
    {
     "name": "stdout",
     "output_type": "stream",
     "text": [
      "A correlação é:\n",
      "                           Nota do Consumidor  Tempo de Resposta em Dias\n",
      "Nota do Consumidor                   1.000000                   0.014916\n",
      "Tempo de Resposta em Dias            0.014916                   1.000000 \n",
      "\n"
     ]
    }
   ],
   "source": [
    "corr_df = relacao_tempo_e_nota.corr()\n",
    "print(\"A correlação é:\")\n",
    "print(corr_df, \"\\n\")"
   ]
  },
  {
   "cell_type": "markdown",
   "id": "59beaa08-ab39-48ea-98fc-0c3bec2c7017",
   "metadata": {},
   "source": [
    "### 4 - Proporção de reclamações registradas e não respondidas.\n",
    "\n",
    "    - Calcular a proporção (porcentagem) do total de reclamações registradas que não foram respondidas."
   ]
  },
  {
   "cell_type": "code",
   "execution_count": 231,
   "id": "583808f1-5348-4ab4-9829-4de9076e1b9f",
   "metadata": {},
   "outputs": [
    {
     "data": {
      "text/html": [
       "<div>\n",
       "<style scoped>\n",
       "    .dataframe tbody tr th:only-of-type {\n",
       "        vertical-align: middle;\n",
       "    }\n",
       "\n",
       "    .dataframe tbody tr th {\n",
       "        vertical-align: top;\n",
       "    }\n",
       "\n",
       "    .dataframe thead th {\n",
       "        text-align: right;\n",
       "    }\n",
       "</style>\n",
       "<table border=\"1\" class=\"dataframe\">\n",
       "  <thead>\n",
       "    <tr style=\"text-align: right;\">\n",
       "      <th></th>\n",
       "      <th>Respondida</th>\n",
       "      <th>Total Reclamações</th>\n",
       "      <th>Porc. %</th>\n",
       "    </tr>\n",
       "  </thead>\n",
       "  <tbody>\n",
       "    <tr>\n",
       "      <th>0</th>\n",
       "      <td>N</td>\n",
       "      <td>215</td>\n",
       "      <td>0.510047</td>\n",
       "    </tr>\n",
       "    <tr>\n",
       "      <th>1</th>\n",
       "      <td>S</td>\n",
       "      <td>41938</td>\n",
       "      <td>99.489953</td>\n",
       "    </tr>\n",
       "  </tbody>\n",
       "</table>\n",
       "</div>"
      ],
      "text/plain": [
       "  Respondida  Total Reclamações    Porc. %\n",
       "0          N                215   0.510047\n",
       "1          S              41938  99.489953"
      ]
     },
     "execution_count": 231,
     "metadata": {},
     "output_type": "execute_result"
    }
   ],
   "source": [
    "total_reclamacao_por_estado = df.groupby(['Respondida'])['Avaliação Reclamação'].count().reset_index(name='Total Reclamações')\n",
    "total_reclamacao_por_estado['Porc. %'] = (total_reclamacao_por_estado['Total Reclamações'] / total_reclamacao_por_estado['Total Reclamações'].sum()) * 100\n",
    "total_reclamacao_por_estado"
   ]
  },
  {
   "cell_type": "code",
   "execution_count": 232,
   "id": "599d1b2d-d4ae-4723-8af6-c4ca4d93374a",
   "metadata": {},
   "outputs": [
    {
     "data": {
      "image/png": "[encoded data removed]",
      "text/plain": [
       "<Figure size 720x504 with 1 Axes>"
      ]
     },
     "metadata": {},
     "output_type": "display_data"
    }
   ],
   "source": [
    "fig = plt.figure(figsize =(10, 7)) \n",
    "plt.pie(total_reclamacao_por_estado[\"Porc. %\"], labels = total_reclamacao_por_estado[\"Respondida\"], autopct='%1.1f%%', shadow=True, explode=(0.2, 0))\n",
    "plt.show() "
   ]
  },
  {
   "cell_type": "markdown",
   "id": "3cecb85f-1f33-4489-bd3a-acfec3608096",
   "metadata": {},
   "source": [
    "### 5 - Imagine que você é alguém responsável por monitorar a satisfação dos consumidores. Que outros tipos de pergunta e análises você entende que poderiam ser feitas? Acrescente mais duas perguntas feitas por você, bem como suas análises para responde-las. \n",
    "\n",
    "    - Proponha outras hipóteses e verifique-as (no mínimo duas)."
   ]
  },
  {
   "cell_type": "markdown",
   "id": "e4c4fcba-00e6-491d-b130-6e1066a55a89",
   "metadata": {},
   "source": [
    "### 5.1 Qualidade: Identificar e ordenar os segmento com maiores problema, por área."
   ]
  },
  {
   "cell_type": "code",
   "execution_count": 233,
   "id": "9d8593ed-6c9b-42f9-89be-86bfd5b0d708",
   "metadata": {},
   "outputs": [
    {
     "data": {
      "text/html": [
       "<div>\n",
       "<style scoped>\n",
       "    .dataframe tbody tr th:only-of-type {\n",
       "        vertical-align: middle;\n",
       "    }\n",
       "\n",
       "    .dataframe tbody tr th {\n",
       "        vertical-align: top;\n",
       "    }\n",
       "\n",
       "    .dataframe thead th {\n",
       "        text-align: right;\n",
       "    }\n",
       "</style>\n",
       "<table border=\"1\" class=\"dataframe\">\n",
       "  <thead>\n",
       "    <tr style=\"text-align: right;\">\n",
       "      <th></th>\n",
       "      <th>Área</th>\n",
       "      <th>Quantidade Segmento</th>\n",
       "      <th>Segmento de Mercado</th>\n",
       "    </tr>\n",
       "  </thead>\n",
       "  <tbody>\n",
       "    <tr>\n",
       "      <th>9</th>\n",
       "      <td>Telecomunicações</td>\n",
       "      <td>19965</td>\n",
       "      <td>[Operadoras de Telecomunicações (Telefonia, In...</td>\n",
       "    </tr>\n",
       "    <tr>\n",
       "      <th>8</th>\n",
       "      <td>Serviços Financeiros</td>\n",
       "      <td>9364</td>\n",
       "      <td>[Bancos, Financeiras e Administradoras de Cart...</td>\n",
       "    </tr>\n",
       "    <tr>\n",
       "      <th>6</th>\n",
       "      <td>Produtos de Telefonia e Informática</td>\n",
       "      <td>7047</td>\n",
       "      <td>[Comércio Eletrônico, Fabricantes - Eletroelet...</td>\n",
       "    </tr>\n",
       "    <tr>\n",
       "      <th>5</th>\n",
       "      <td>Produtos Eletrodomésticos e Eletrônicos</td>\n",
       "      <td>3656</td>\n",
       "      <td>[Fabricantes - Linha Branca, Comércio Eletrôni...</td>\n",
       "    </tr>\n",
       "    <tr>\n",
       "      <th>1</th>\n",
       "      <td>Demais Produtos</td>\n",
       "      <td>2312</td>\n",
       "      <td>[Comércio Eletrônico, Comércio Eletrônico, Var...</td>\n",
       "    </tr>\n",
       "    <tr>\n",
       "      <th>10</th>\n",
       "      <td>Transportes</td>\n",
       "      <td>477</td>\n",
       "      <td>[Agências de Viagens, Transporte Aéreo, Agênci...</td>\n",
       "    </tr>\n",
       "    <tr>\n",
       "      <th>2</th>\n",
       "      <td>Demais Serviços</td>\n",
       "      <td>402</td>\n",
       "      <td>[Varejo, Bancos, Financeiras e Administradoras...</td>\n",
       "    </tr>\n",
       "    <tr>\n",
       "      <th>7</th>\n",
       "      <td>Saúde</td>\n",
       "      <td>257</td>\n",
       "      <td>[Operadoras de Planos de Saúde e Administrador...</td>\n",
       "    </tr>\n",
       "    <tr>\n",
       "      <th>11</th>\n",
       "      <td>Turismo/Viagens</td>\n",
       "      <td>243</td>\n",
       "      <td>[Agências de Viagens, Agências de Viagens, Agê...</td>\n",
       "    </tr>\n",
       "    <tr>\n",
       "      <th>0</th>\n",
       "      <td>Alimentos</td>\n",
       "      <td>116</td>\n",
       "      <td>[Varejo, Supermercados, Supermercados, Superme...</td>\n",
       "    </tr>\n",
       "    <tr>\n",
       "      <th>12</th>\n",
       "      <td>Água, Energia, Gás</td>\n",
       "      <td>73</td>\n",
       "      <td>[Energia Elétrica, Gás, Água e Esgoto, Energia...</td>\n",
       "    </tr>\n",
       "    <tr>\n",
       "      <th>4</th>\n",
       "      <td>Habitação</td>\n",
       "      <td>71</td>\n",
       "      <td>[Bancos, Financeiras e Administradoras de Cart...</td>\n",
       "    </tr>\n",
       "    <tr>\n",
       "      <th>3</th>\n",
       "      <td>Educação</td>\n",
       "      <td>4</td>\n",
       "      <td>[Editoras, Comércio Eletrônico, Estabeleciment...</td>\n",
       "    </tr>\n",
       "  </tbody>\n",
       "</table>\n",
       "</div>"
      ],
      "text/plain": [
       "                                       Área  Quantidade Segmento  \\\n",
       "9                          Telecomunicações                19965   \n",
       "8                      Serviços Financeiros                 9364   \n",
       "6       Produtos de Telefonia e Informática                 7047   \n",
       "5   Produtos Eletrodomésticos e Eletrônicos                 3656   \n",
       "1                           Demais Produtos                 2312   \n",
       "10                              Transportes                  477   \n",
       "2                          Demais Serviços                   402   \n",
       "7                                     Saúde                  257   \n",
       "11                          Turismo/Viagens                  243   \n",
       "0                                 Alimentos                  116   \n",
       "12                       Água, Energia, Gás                   73   \n",
       "4                                 Habitação                   71   \n",
       "3                                  Educação                    4   \n",
       "\n",
       "                                  Segmento de Mercado  \n",
       "9   [Operadoras de Telecomunicações (Telefonia, In...  \n",
       "8   [Bancos, Financeiras e Administradoras de Cart...  \n",
       "6   [Comércio Eletrônico, Fabricantes - Eletroelet...  \n",
       "5   [Fabricantes - Linha Branca, Comércio Eletrôni...  \n",
       "1   [Comércio Eletrônico, Comércio Eletrônico, Var...  \n",
       "10  [Agências de Viagens, Transporte Aéreo, Agênci...  \n",
       "2   [Varejo, Bancos, Financeiras e Administradoras...  \n",
       "7   [Operadoras de Planos de Saúde e Administrador...  \n",
       "11  [Agências de Viagens, Agências de Viagens, Agê...  \n",
       "0   [Varejo, Supermercados, Supermercados, Superme...  \n",
       "12  [Energia Elétrica, Gás, Água e Esgoto, Energia...  \n",
       "4   [Bancos, Financeiras e Administradoras de Cart...  \n",
       "3   [Editoras, Comércio Eletrônico, Estabeleciment...  "
      ]
     },
     "execution_count": 233,
     "metadata": {},
     "output_type": "execute_result"
    }
   ],
   "source": [
    "df_qualidade_segmento_por_area = df[['Área', 'Segmento de Mercado']]\n",
    "df_qualidade_segmento_por_area = df_qualidade_segmento_por_area.groupby(['Área'])['Segmento de Mercado'].count().reset_index(name='Quantidade Segmento')\n",
    "df_qualidade_segmento_por_area = df_qualidade_segmento_por_area.sort_values(['Quantidade Segmento'], ascending=False)\n",
    "\n",
    "df_qualidade = df[['Área', 'Segmento de Mercado']]\n",
    "df_qualidade = df_qualidade.groupby('Área')['Segmento de Mercado'].apply(list).reset_index(name='Segmento de Mercado')\n",
    "\n",
    "df_qualidade_segmento_por_area['Segmento de Mercado'] = df_qualidade['Segmento de Mercado']\n",
    "\n",
    "df_qualidade_segmento_por_area"
   ]
  },
  {
   "cell_type": "code",
   "execution_count": 234,
   "id": "7ce2cc6c-1ec7-4bf3-bf8a-5aa7ca351eba",
   "metadata": {},
   "outputs": [
    {
     "data": {
      "text/plain": [
       "<AxesSubplot:xlabel='Área'>"
      ]
     },
     "execution_count": 234,
     "metadata": {},
     "output_type": "execute_result"
    },
    {
     "data": {
      "image/png": "[encoded data removed]",
      "text/plain": [
       "<Figure size 432x288 with 1 Axes>"
      ]
     },
     "metadata": {
      "needs_background": "light"
     },
     "output_type": "display_data"
    }
   ],
   "source": [
    "df_qualidade_segmento_por_area.plot(x=\"Área\", y=[\"Quantidade Segmento\"], kind=\"bar\")"
   ]
  },
  {
   "cell_type": "markdown",
   "id": "7c828c01-2a3a-483c-98d3-4aa5043d1455",
   "metadata": {},
   "source": [
    "### 5.2 Presença Digital: Qual a porcentagem das reclamações realizadas pelo canal digital."
   ]
  },
  {
   "cell_type": "code",
   "execution_count": 235,
   "id": "0ab86982-df76-4c35-a442-71bc174b2462",
   "metadata": {},
   "outputs": [
    {
     "data": {
      "text/html": [
       "<div>\n",
       "<style scoped>\n",
       "    .dataframe tbody tr th:only-of-type {\n",
       "        vertical-align: middle;\n",
       "    }\n",
       "\n",
       "    .dataframe tbody tr th {\n",
       "        vertical-align: top;\n",
       "    }\n",
       "\n",
       "    .dataframe thead th {\n",
       "        text-align: right;\n",
       "    }\n",
       "</style>\n",
       "<table border=\"1\" class=\"dataframe\">\n",
       "  <thead>\n",
       "    <tr style=\"text-align: right;\">\n",
       "      <th></th>\n",
       "      <th>Canal de Origem</th>\n",
       "      <th>Quant. de Reclamações</th>\n",
       "      <th>% Reclamações</th>\n",
       "    </tr>\n",
       "  </thead>\n",
       "  <tbody>\n",
       "    <tr>\n",
       "      <th>1</th>\n",
       "      <td>Plataforma Web</td>\n",
       "      <td>22156</td>\n",
       "      <td>50.369427</td>\n",
       "    </tr>\n",
       "    <tr>\n",
       "      <th>0</th>\n",
       "      <td>Não identificado</td>\n",
       "      <td>21831</td>\n",
       "      <td>49.630573</td>\n",
       "    </tr>\n",
       "  </tbody>\n",
       "</table>\n",
       "</div>"
      ],
      "text/plain": [
       "    Canal de Origem  Quant. de Reclamações  % Reclamações\n",
       "1    Plataforma Web                  22156      50.369427\n",
       "0  Não identificado                  21831      49.630573"
      ]
     },
     "execution_count": 235,
     "metadata": {},
     "output_type": "execute_result"
    }
   ],
   "source": [
    "df_reclamacoes_digitais_por_faixa_etaria  = df[['Canal de Origem', 'Faixa Etária']]\n",
    "df_reclamacoes_digitais_por_faixa_etaria = df_reclamacoes_digitais_por_faixa_etaria.groupby(['Canal de Origem'])['Faixa Etária'].count().reset_index(name='Quant. de Reclamações')\n",
    "df_reclamacoes_digitais_por_faixa_etaria = df_reclamacoes_digitais_por_faixa_etaria.sort_values(['Quant. de Reclamações'], ascending=False)\n",
    "\n",
    "df_canal_de_origem = df[['Canal de Origem', 'Faixa Etária']]\n",
    "df_canal_de_origem = df_canal_de_origem.groupby('Canal de Origem')['Faixa Etária'].apply(list).reset_index(name='Faixa Etária')\n",
    "\n",
    "df_reclamacoes_digitais_por_faixa_etaria['% Reclamações'] = (df_reclamacoes_digitais_por_faixa_etaria['Quant. de Reclamações'] / df_reclamacoes_digitais_por_faixa_etaria['Quant. de Reclamações'].sum()) * 100\n",
    "\n",
    "df_reclamacoes_digitais_por_faixa_etaria"
   ]
  },
  {
   "cell_type": "code",
   "execution_count": 236,
   "id": "daa1ed90-0b26-4396-af8e-0ddcd02cc9f5",
   "metadata": {},
   "outputs": [
    {
     "data": {
      "image/png": "[encoded data removed]",
      "text/plain": [
       "<Figure size 720x504 with 1 Axes>"
      ]
     },
     "metadata": {},
     "output_type": "display_data"
    }
   ],
   "source": [
    "fig = plt.figure(figsize =(10, 7)) \n",
    "plt.pie(df_reclamacoes_digitais_por_faixa_etaria[\"% Reclamações\"], labels = df_reclamacoes_digitais_por_faixa_etaria[\"Canal de Origem\"], autopct='%1.1f%%', shadow=True, explode=(0.02, 0))\n",
    "plt.show() "
   ]
  },
  {
   "cell_type": "code",
   "execution_count": null,
   "id": "986888d1-7fb4-4ca2-a998-811ea0acd7da",
   "metadata": {},
   "outputs": [],
   "source": []
  }
 ],
 "metadata": {
  "kernelspec": {
   "display_name": "Python 3 (ipykernel)",
   "language": "python",
   "name": "python3"
  },
  "language_info": {
   "codemirror_mode": {
    "name": "ipython",
    "version": 3
   },
   "file_extension": ".py",
   "mimetype": "text/x-python",
   "name": "python",
   "nbconvert_exporter": "python",
   "pygments_lexer": "ipython3",
   "version": "3.10.4"
  },
  "vscode": {
   "interpreter": {
    "hash": "b486495e11d921666ebdc15a3b589404651c9b0bb8e832fe947648c741f07b03"
   }
  }
 },
 "nbformat": 4,
 "nbformat_minor": 5
}
