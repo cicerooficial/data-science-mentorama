{
 "cells": [
  {
   "cell_type": "markdown",
   "id": "e3e0fa4d",
   "metadata": {},
   "source": [
    "# Tarefas Módulo 3\n",
    "\n",
    "- Nome: Cícero Henrique\n",
    "- Data: 02/02/2022"
   ]
  },
  {
   "cell_type": "markdown",
   "id": "4957cff2",
   "metadata": {},
   "source": [
    "------\n",
    "### Exercicio 1\n",
    "\n",
    "Construa uma função que recebe uma lista de tamanho 5 como parâmetro. \n",
    "Essa função deve percorrer cada elemento dessa lista e verificar se o elemento é par ou não. \n",
    "Se ele for par, salvar ele em uma nova lista que deve ser retornada com todos os valores pares encontrados.\n",
    "\n"
   ]
  },
  {
   "cell_type": "code",
   "execution_count": 62,
   "id": "33fe9fd1",
   "metadata": {},
   "outputs": [],
   "source": [
    "#Cria listas\n",
    "lista_numeros = [10,23,34,48,51]\n",
    "numeros_pares = []\n",
    "\n",
    "#Cria função\n",
    "def numero_par(lista):\n",
    "    for numero in lista:\n",
    "        if (numero % 2 == 0):\n",
    "            numeros_pares.append(numero)\n",
    "            \n",
    "    return numeros_pares"
   ]
  },
  {
   "cell_type": "code",
   "execution_count": 63,
   "id": "d113dd34",
   "metadata": {},
   "outputs": [
    {
     "data": {
      "text/plain": [
       "[10, 34, 48]"
      ]
     },
     "execution_count": 63,
     "metadata": {},
     "output_type": "execute_result"
    }
   ],
   "source": [
    "#Chama função\n",
    "numero_par(lista_numeros)"
   ]
  },
  {
   "cell_type": "markdown",
   "id": "57f9691f",
   "metadata": {},
   "source": [
    "------\n",
    "### Exercicio 2\n",
    "\n",
    "Escreva um código que chama o módulo random. \n",
    "Dentro deste módulo utilize a função que gera números aleatórios inteiros para criar uma função customizada que pede para o usuário digitar quantidade de sorteios que ele quer e roda sorteando essa quantidade de números. \n",
    "Alguns usuários podem não entender que o input é um número e digitar por exemplo \"três\", o que geraria um erro no código. \n",
    "Então escreva essa função de maneira a tratar esse erro, enviando uma mensagem que ajude o usuário a resolver o problema."
   ]
  },
  {
   "cell_type": "code",
   "execution_count": 93,
   "id": "f1edc8e2",
   "metadata": {},
   "outputs": [
    {
     "name": "stdout",
     "output_type": "stream",
     "text": [
      "Digite a quantidade de sorteios a ser gerado: 10\n",
      "6\n",
      "1\n",
      "7\n",
      "8\n",
      "2\n",
      "8\n",
      "1\n",
      "6\n",
      "8\n"
     ]
    }
   ],
   "source": [
    "import random\n",
    "\n",
    "def sorteia_numeros():\n",
    "    try:\n",
    "        quantidade_sorteio = int(input('Digite a quantidade de sorteios a ser gerado: '))\n",
    "        while quantidade_sorteio < 0:\n",
    "            print('ATENÇÃO! Digite apenas número positivo (maior que 0)!')\n",
    "            quantidade_sorteio = int(input('Digite a quantidade de sorteios a ser gerado: '))\n",
    "        for sorteio in range(1, quantidade_sorteio):\n",
    "            print(random.randrange(1, quantidade_sorteio))\n",
    "    except ValueError:\n",
    "        print('ATENÇÃO! Digite apenas número da próxima vez.')\n",
    "\n",
    "sorteia_numeros()"
   ]
  },
  {
   "cell_type": "markdown",
   "id": "e0eb584b",
   "metadata": {},
   "source": [
    "------\n",
    "### Exercicio 3\n",
    "\n",
    "Crie uma classe cliente. Esse cliente deve possuir 2 atributos: nome e saldo e dois métodos: \n",
    "depositar e sacar. Usando a classe, crie um cliente, utilize os métodos criados para depositar 100 reais na conta do cliente, que deve começar com saldo 0 e depois do depósito apresentar saldo 100. Na sequência, faça um saque de 20 reais. \n",
    "Fique atento: o seu código deve impedir que o usuário saque mais do que ele tem em saldo!"
   ]
  },
  {
   "cell_type": "code",
   "execution_count": 167,
   "id": "647b0568",
   "metadata": {},
   "outputs": [],
   "source": [
    "class Cliente:\n",
    "    \n",
    "    def __init__(self, nome, saldo):\n",
    "        \n",
    "        #Atributos\n",
    "        self.nome = nome\n",
    "        self.saldo = 0\n",
    "    \n",
    "    #Métodos\n",
    "    def depositar(self, deposito):\n",
    "        self.saldo+=deposito\n",
    "        print(f'Você realizou um depósito de R${deposito}. Seu saldo atual é: R${self.saldo}')\n",
    "\n",
    "    def sacar(self, saque):\n",
    "        if self.saldo >= saque:\n",
    "            self.saldo-=saque\n",
    "            print(f'Você realizou um saque de R${saque}. Seu saldo atual é: R${self.saldo}')\n",
    "        else:\n",
    "            print(f'ATENÇÃO! Não é possível realizar o saque. Seu saldo atual é: R$ {self.saldo}. \\n'\n",
    "                  'Realize um deposito antes de realizar operação de saque novamente.')\n"
   ]
  },
  {
   "cell_type": "code",
   "execution_count": 168,
   "id": "dda3bf94",
   "metadata": {},
   "outputs": [],
   "source": [
    "class Cliente1(Cliente):\n",
    "    def __init__(self, nome, saldo):\n",
    "        Cliente.__init__(self, nome, saldo)"
   ]
  },
  {
   "cell_type": "code",
   "execution_count": 169,
   "id": "43d8626b",
   "metadata": {},
   "outputs": [
    {
     "name": "stdout",
     "output_type": "stream",
     "text": [
      "Você realizou um depósito de R$100. Seu saldo atual é: R$100\n",
      "Você realizou um saque de R$20. Seu saldo atual é: R$80\n",
      "Você realizou um saque de R$20. Seu saldo atual é: R$60\n",
      "Você realizou um saque de R$20. Seu saldo atual é: R$40\n",
      "Você realizou um saque de R$20. Seu saldo atual é: R$20\n",
      "Você realizou um saque de R$20. Seu saldo atual é: R$0\n",
      "ATENÇÃO! Não é possível realizar o saque. Seu saldo atual é: R$ 0. \n",
      "Realize um deposito antes de realizar operação de saque novamente.\n"
     ]
    }
   ],
   "source": [
    "cliente1 = Cliente1('Pedro', 0)\n",
    "\n",
    "cliente1.depositar(100)\n",
    "cliente1.sacar(20)\n",
    "cliente1.sacar(20)\n",
    "cliente1.sacar(20)\n",
    "cliente1.sacar(20)\n",
    "cliente1.sacar(20)\n",
    "cliente1.sacar(20)"
   ]
  },
  {
   "cell_type": "code",
   "execution_count": null,
   "id": "c8df20c6",
   "metadata": {},
   "outputs": [],
   "source": []
  }
 ],
 "metadata": {
  "kernelspec": {
   "display_name": "Python 3",
   "language": "python",
   "name": "python3"
  },
  "language_info": {
   "codemirror_mode": {
    "name": "ipython",
    "version": 3
   },
   "file_extension": ".py",
   "mimetype": "text/x-python",
   "name": "python",
   "nbconvert_exporter": "python",
   "pygments_lexer": "ipython3",
   "version": "3.8.8"
  }
 },
 "nbformat": 4,
 "nbformat_minor": 5
}
