{
 "cells": [
  {
   "cell_type": "markdown",
   "id": "1c8a9a55",
   "metadata": {},
   "source": [
    "# Tarefas Módulo 4\n",
    "- Nome: Cícero Henrique dos Santos\n",
    "- Data: 03/02/2022"
   ]
  },
  {
   "cell_type": "markdown",
   "id": "7f30f0b6",
   "metadata": {},
   "source": [
    "------\n",
    "# Exercício 1\n",
    "Criar uma tabela dados_cadastrais onde cada linha representa um funcionário e com os seguintes atributos: Id, nome, sobrenome, data_nasci, cpf e endereco; Criar uma tabela dados_profissionais com id, graduacao, cargo, salario e tempo_casa. Insira 4 registros em cada uma das tabelas.\n",
    "\n",
    "Tabela: dados cadastrais\n",
    "- [(1,'maria', 'silva', 12/04/1977, 11111211313, 'Rua 1 - SP',),\n",
    "- (2,'joao','silva', 12/04/1984, 11111211889,'Rua 2 - SP'),\n",
    "- (3,'pedro','pereira', 12/04/1987, 11111211786,'Rua 8 - SP'),\n",
    "- (4,'paulo','ribeiro', 12/04/1983, 11111211123,'Rua 9 - SP')]\n",
    "\n",
    "- Obs.: 1. Faltou dados de data de nascimento. 2. dados de cpf invertido com endereço.\n",
    "\n",
    "Tabela: dados profissionais\n",
    "- [(1,'matematica', 'professor', 3500.89, 3),\n",
    "- (2,'geografia', 'orientador', 2850.8, 1),\n",
    "- (3,'historia', 'orientador', 3200.45, 1),\n",
    "- (4,'física', 'professor', 1890.33, 2)]\n"
   ]
  },
  {
   "cell_type": "code",
   "execution_count": 9,
   "id": "80396a07",
   "metadata": {},
   "outputs": [],
   "source": [
    "# Importa biblioteca SQLite para manipulação de comandos SQL\n",
    "import sqlite3\n",
    "\n",
    "#Cria um banco de dados e estabelece conecção com o mesmo\n",
    "conn = sqlite3.connect(\"db_tarefa4\")\n",
    "\n",
    "#Variavel para utilizar comando SQL\n",
    "cursor = conn.cursor()"
   ]
  },
  {
   "cell_type": "code",
   "execution_count": 11,
   "id": "a91a35b8",
   "metadata": {},
   "outputs": [
    {
     "ename": "OperationalError",
     "evalue": "near \"OR\": syntax error",
     "output_type": "error",
     "traceback": [
      "\u001b[1;31m---------------------------------------------------------------------------\u001b[0m",
      "\u001b[1;31mOperationalError\u001b[0m                          Traceback (most recent call last)",
      "\u001b[1;32m<ipython-input-11-57ee0f38a321>\u001b[0m in \u001b[0;36m<module>\u001b[1;34m\u001b[0m\n\u001b[0;32m      1\u001b[0m \u001b[1;31m#Cria tabela de dados cadastrais\u001b[0m\u001b[1;33m\u001b[0m\u001b[1;33m\u001b[0m\u001b[1;33m\u001b[0m\u001b[0m\n\u001b[1;32m----> 2\u001b[1;33m \u001b[0mcursor\u001b[0m\u001b[1;33m.\u001b[0m\u001b[0mexecute\u001b[0m\u001b[1;33m(\u001b[0m\u001b[1;34m\"CREATE OR REPLACE TABLE dados_cadastrais (id integer, nome text, sobrenome text, data_nasci text, cpf text, endereco text)\"\u001b[0m\u001b[1;33m)\u001b[0m\u001b[1;33m\u001b[0m\u001b[1;33m\u001b[0m\u001b[0m\n\u001b[0m",
      "\u001b[1;31mOperationalError\u001b[0m: near \"OR\": syntax error"
     ]
    }
   ],
   "source": [
    "#Cria tabela de dados cadastrais\n",
    "cursor.execute(\"CREATE OR REPLACE TABLE dados_cadastrais (id integer, nome text, sobrenome text, data_nasci text, cpf text, endereco text)\")"
   ]
  },
  {
   "cell_type": "code",
   "execution_count": null,
   "id": "24fb0d09",
   "metadata": {},
   "outputs": [],
   "source": [
    "#Cria tabela de dados profissionais\n",
    "cursor.execute(\"CREATE TABLE dados_profissionais (id integer, graduacao text, cargo text, salario integer, tempo_casa integer)\")"
   ]
  },
  {
   "cell_type": "code",
   "execution_count": null,
   "id": "9c8c4f08",
   "metadata": {},
   "outputs": [],
   "source": [
    "#Verificar se as tabeças foram criadas\n",
    "cursor.execute(\"SELECT name FROM sqlite_master WHERE TYPE= 'table'\")\n",
    "cursor.fetchall()"
   ]
  },
  {
   "cell_type": "code",
   "execution_count": null,
   "id": "1de4fc5a",
   "metadata": {},
   "outputs": [],
   "source": [
    "#Insere dados na tabela dados_cadastrais\n",
    "cursor.execute(\"INSERT INTO dados_cadastrais VALUES(1,'maria', 'silva', 12/04/1977, 11111211313, 'Rua 1 - SP')\") \n",
    "cursor.execute(\"INSERT INTO dados_cadastrais VALUES(2,'joao','silva', 12/04/1984, 11111211889,'Rua 2 - SP')\") \n",
    "cursor.execute(\"INSERT INTO dados_cadastrais VALUES(3,'pedro','pereira', 12/04/1987, 11111211786,'Rua 8 - SP')\") \n",
    "cursor.execute(\"INSERT INTO dados_cadastrais VALUES(4,'paulo','ribeiro', 12/04/1983, 11111211123,'Rua 9 - SP')\") \n",
    "\n",
    "conn.commit()"
   ]
  },
  {
   "cell_type": "code",
   "execution_count": null,
   "id": "3501b452",
   "metadata": {},
   "outputs": [],
   "source": [
    "cursor.execute(\"SELECT * FROM dados_cadastrais\"'\")\n",
    "cursor.fetchall()"
   ]
  },
  {
   "cell_type": "code",
   "execution_count": null,
   "id": "fa0930b6",
   "metadata": {},
   "outputs": [],
   "source": [
    "#Insere dados na tabela dados_cadastrais\n",
    "cursor.execute(\"INSERT INTO dados_profissionais VALUES(1,'matematica', 'professor', 3500.89, 3)\") \n",
    "cursor.execute(\"INSERT INTO dados_profissionais VALUES(2,'geografia', 'orientador', 2850.8, 1)\") \n",
    "cursor.execute(\"INSERT INTO dados_profissionais VALUES(3,'historia', 'orientador', 3200.45, 1)\") \n",
    "cursor.execute(\"INSERT INTO dados_profissionais VALUES(4,'física', 'professor', 1890.33, 2)\") \n",
    "\n",
    "conn.commit()"
   ]
  },
  {
   "cell_type": "code",
   "execution_count": null,
   "id": "7a3d4670",
   "metadata": {},
   "outputs": [],
   "source": [
    "cursor.execute(\"SELECT * FROM dados_profissionais\")\n",
    "cursor.fetchall()"
   ]
  },
  {
   "cell_type": "markdown",
   "id": "acf132e3",
   "metadata": {},
   "source": [
    "------\n",
    "# Exercício 2\n",
    "Usando a tabela dados profissionais, escreva uma query que retorne todos os campos da tabela ordenando-os pela coluna tempo de casa, de maneira decrescente."
   ]
  },
  {
   "cell_type": "code",
   "execution_count": null,
   "id": "0485d914",
   "metadata": {},
   "outputs": [],
   "source": [
    "cursor.execute(\"SELECT * FROM dados_profissionais ORDER BY tempo_casa DESC\")\n",
    "cursor.fetchall()"
   ]
  },
  {
   "cell_type": "markdown",
   "id": "374c5343",
   "metadata": {},
   "source": [
    "------\n",
    "# Exercício 3\n",
    "Conte a quantidade de funcionários dessa empresa;\n"
   ]
  },
  {
   "cell_type": "code",
   "execution_count": null,
   "id": "0385dfce",
   "metadata": {},
   "outputs": [],
   "source": [
    "cursor.execute(\"SELECT COUNT(*) FROM dados_profissionais\")\n",
    "cursor.fetchall()"
   ]
  },
  {
   "cell_type": "markdown",
   "id": "67df4535",
   "metadata": {},
   "source": [
    "------\n",
    "# Exercício 4\n",
    "Usando a tabela dados cadastrais, escreva uma query que liste apenas os funcionários que possuem sobrenome \"silva\", ordenados pelo nome completo, ou seja, nome e sobrenome."
   ]
  },
  {
   "cell_type": "code",
   "execution_count": null,
   "id": "21d62045",
   "metadata": {},
   "outputs": [],
   "source": [
    "cursor.execute(\"SELECT * FROM dados_cadastrais WHERE sobrenome='silva' ORDER BY nome AND sobrenome\")\n",
    "cursor.fetchall()"
   ]
  },
  {
   "cell_type": "markdown",
   "id": "f88e3ea1",
   "metadata": {},
   "source": [
    "------\n",
    "# Exercício 5\n",
    "Escreva uma query que liste o valor da folha de pagamento dessa empresa por cargo, usando a tabela dados_profissionais. (Ou seja, somar os salários em cada cargo)."
   ]
  },
  {
   "cell_type": "code",
   "execution_count": null,
   "id": "2594750c",
   "metadata": {},
   "outputs": [],
   "source": [
    "cursor.execute(\"SELECT SUM(salario), cargo FROM dados_profissionais GROUP BY cargo\" )\n",
    "cursor.fetchall()"
   ]
  },
  {
   "cell_type": "code",
   "execution_count": null,
   "id": "4a759e75",
   "metadata": {},
   "outputs": [],
   "source": []
  }
 ],
 "metadata": {
  "kernelspec": {
   "display_name": "Python 3",
   "language": "python",
   "name": "python3"
  },
  "language_info": {
   "codemirror_mode": {
    "name": "ipython",
    "version": 3
   },
   "file_extension": ".py",
   "mimetype": "text/x-python",
   "name": "python",
   "nbconvert_exporter": "python",
   "pygments_lexer": "ipython3",
   "version": "3.8.8"
  }
 },
 "nbformat": 4,
 "nbformat_minor": 5
}
