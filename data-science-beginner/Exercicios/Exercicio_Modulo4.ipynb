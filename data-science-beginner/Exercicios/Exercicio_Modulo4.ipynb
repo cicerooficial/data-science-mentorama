{
 "cells": [
  {
   "cell_type": "markdown",
   "id": "1c8a9a55",
   "metadata": {},
   "source": [
    "# Tarefas Módulo 4\n",
    "- Nome: Cícero Henrique dos Santos\n",
    "- Data: 03/02/2022"
   ]
  },
  {
   "cell_type": "markdown",
   "id": "2b1e3135-1812-45bb-9375-b9e0ce325838",
   "metadata": {},
   "source": [
    "# SQLite"
   ]
  },
  {
   "cell_type": "markdown",
   "id": "7f30f0b6",
   "metadata": {},
   "source": [
    "------\n",
    "## Exercício 1\n",
    "Criar uma tabela dados_cadastrais onde cada linha representa um funcionário e com os seguintes atributos: Id, nome, sobrenome, data_nasci, cpf e endereco; Criar uma tabela dados_profissionais com id, graduacao, cargo, salario e tempo_casa. Insira 4 registros em cada uma das tabelas.\n",
    "\n",
    "Tabela: dados cadastrais\n",
    "- [(1,'maria', 'silva', 12/04/1977, 11111211313, 'Rua 1 - SP',),\n",
    "- (2,'joao','silva', 12/04/1984, 11111211889,'Rua 2 - SP'),\n",
    "- (3,'pedro','pereira', 12/04/1987, 11111211786,'Rua 8 - SP'),\n",
    "- (4,'paulo','ribeiro', 12/04/1983, 11111211123,'Rua 9 - SP')]\n",
    "\n",
    "- Obs.: 1. Faltou dados de data de nascimento. 2. dados de cpf invertido com endereço.\n",
    "\n",
    "Tabela: dados profissionais\n",
    "- [(1,'matematica', 'professor', 3500.89, 3),\n",
    "- (2,'geografia', 'orientador', 2850.8, 1),\n",
    "- (3,'historia', 'orientador', 3200.45, 1),\n",
    "- (4,'física', 'professor', 1890.33, 2)]\n"
   ]
  },
  {
   "cell_type": "code",
   "execution_count": 65,
   "id": "80396a07",
   "metadata": {},
   "outputs": [],
   "source": [
    "# Importa biblioteca SQLite para manipulação de comandos SQL\n",
    "import sqlite3\n",
    "\n",
    "#Cria um banco de dados e estabelece conecção com o mesmo\n",
    "conn = sqlite3.connect(\"db_tarefa4\")\n",
    "\n",
    "#Variavel para utilizar comando SQL\n",
    "cursor = conn.cursor()"
   ]
  },
  {
   "cell_type": "code",
   "execution_count": 66,
   "id": "a91a35b8",
   "metadata": {},
   "outputs": [
    {
     "ename": "OperationalError",
     "evalue": "table dados_cadastrais already exists",
     "output_type": "error",
     "traceback": [
      "\u001b[1;31m---------------------------------------------------------------------------\u001b[0m",
      "\u001b[1;31mOperationalError\u001b[0m                          Traceback (most recent call last)",
      "Input \u001b[1;32mIn [66]\u001b[0m, in \u001b[0;36m<module>\u001b[1;34m\u001b[0m\n\u001b[0;32m      1\u001b[0m \u001b[38;5;66;03m#Cria tabela de dados cadastrais\u001b[39;00m\n\u001b[1;32m----> 2\u001b[0m \u001b[43mcursor\u001b[49m\u001b[38;5;241;43m.\u001b[39;49m\u001b[43mexecute\u001b[49m\u001b[43m(\u001b[49m\u001b[38;5;124;43m\"\u001b[39;49m\u001b[38;5;124;43mCREATE TABLE dados_cadastrais (id integer, nome text, sobrenome text, data_nasci text, cpf text, endereco text)\u001b[39;49m\u001b[38;5;124;43m\"\u001b[39;49m\u001b[43m)\u001b[49m\n",
      "\u001b[1;31mOperationalError\u001b[0m: table dados_cadastrais already exists"
     ]
    }
   ],
   "source": [
    "#Cria tabela de dados cadastrais\n",
    "cursor.execute(\"CREATE TABLE dados_cadastrais (id integer, nome text, sobrenome text, data_nasci text, cpf text, endereco text)\")"
   ]
  },
  {
   "cell_type": "code",
   "execution_count": 67,
   "id": "24fb0d09",
   "metadata": {},
   "outputs": [
    {
     "ename": "OperationalError",
     "evalue": "table dados_profissionais already exists",
     "output_type": "error",
     "traceback": [
      "\u001b[1;31m---------------------------------------------------------------------------\u001b[0m",
      "\u001b[1;31mOperationalError\u001b[0m                          Traceback (most recent call last)",
      "Input \u001b[1;32mIn [67]\u001b[0m, in \u001b[0;36m<module>\u001b[1;34m\u001b[0m\n\u001b[0;32m      1\u001b[0m \u001b[38;5;66;03m#Cria tabela de dados profissionais\u001b[39;00m\n\u001b[1;32m----> 2\u001b[0m \u001b[43mcursor\u001b[49m\u001b[38;5;241;43m.\u001b[39;49m\u001b[43mexecute\u001b[49m\u001b[43m(\u001b[49m\u001b[38;5;124;43m\"\u001b[39;49m\u001b[38;5;124;43mCREATE TABLE dados_profissionais (id integer, graduacao text, cargo text, salario integer, tempo_casa integer)\u001b[39;49m\u001b[38;5;124;43m\"\u001b[39;49m\u001b[43m)\u001b[49m\n",
      "\u001b[1;31mOperationalError\u001b[0m: table dados_profissionais already exists"
     ]
    }
   ],
   "source": [
    "#Cria tabela de dados profissionais\n",
    "cursor.execute(\"CREATE TABLE dados_profissionais (id integer, graduacao text, cargo text, salario integer, tempo_casa integer)\")"
   ]
  },
  {
   "cell_type": "code",
   "execution_count": 68,
   "id": "9c8c4f08",
   "metadata": {},
   "outputs": [
    {
     "data": {
      "text/plain": [
       "[('dados_cadastrais',), ('dados_profissionais',)]"
      ]
     },
     "execution_count": 68,
     "metadata": {},
     "output_type": "execute_result"
    }
   ],
   "source": [
    "#Verificar se as tabeças foram criadas\n",
    "cursor.execute(\"SELECT name FROM sqlite_master WHERE TYPE= 'table'\")\n",
    "cursor.fetchall()"
   ]
  },
  {
   "cell_type": "code",
   "execution_count": 69,
   "id": "1de4fc5a",
   "metadata": {},
   "outputs": [],
   "source": [
    "#Insere dados na tabela dados_cadastrais\n",
    "cursor.execute(\"INSERT INTO dados_cadastrais VALUES(1,'maria', 'silva', '12/04/1977', '11111211313', 'Rua 1 - SP')\") \n",
    "cursor.execute(\"INSERT INTO dados_cadastrais VALUES(2,'joao','silva', '12/04/1984', '11111211889','Rua 2 - SP')\") \n",
    "cursor.execute(\"INSERT INTO dados_cadastrais VALUES(3,'pedro','pereira', '12/04/1987', '11111211786','Rua 8 - SP')\") \n",
    "cursor.execute(\"INSERT INTO dados_cadastrais VALUES(4,'paulo','ribeiro', '12/04/1983', '11111211123','Rua 9 - SP')\") \n",
    "\n",
    "conn.commit()"
   ]
  },
  {
   "cell_type": "code",
   "execution_count": 70,
   "id": "3501b452",
   "metadata": {},
   "outputs": [
    {
     "data": {
      "text/plain": [
       "[(1, 'maria', 'silva', '12/04/1977', '11111211313', 'Rua 1 - SP'),\n",
       " (2, 'joao', 'silva', '12/04/1984', '11111211889', 'Rua 2 - SP'),\n",
       " (3, 'pedro', 'pereira', '12/04/1987', '11111211786', 'Rua 8 - SP'),\n",
       " (4, 'paulo', 'ribeiro', '12/04/1983', '11111211123', 'Rua 9 - SP'),\n",
       " (1, 'maria', 'silva', '12/04/1977', '11111211313', 'Rua 1 - SP'),\n",
       " (2, 'joao', 'silva', '12/04/1984', '11111211889', 'Rua 2 - SP'),\n",
       " (3, 'pedro', 'pereira', '12/04/1987', '11111211786', 'Rua 8 - SP'),\n",
       " (4, 'paulo', 'ribeiro', '12/04/1983', '11111211123', 'Rua 9 - SP')]"
      ]
     },
     "execution_count": 70,
     "metadata": {},
     "output_type": "execute_result"
    }
   ],
   "source": [
    "cursor.execute(\"SELECT * FROM dados_cadastrais\")\n",
    "cursor.fetchall()"
   ]
  },
  {
   "cell_type": "code",
   "execution_count": 71,
   "id": "fa0930b6",
   "metadata": {},
   "outputs": [],
   "source": [
    "#Insere dados na tabela dados_cadastrais\n",
    "cursor.execute(\"INSERT INTO dados_profissionais VALUES(1,'matematica', 'professor', 3500.89, 3)\") \n",
    "cursor.execute(\"INSERT INTO dados_profissionais VALUES(2,'geografia', 'orientador', 2850.8, 1)\") \n",
    "cursor.execute(\"INSERT INTO dados_profissionais VALUES(3,'historia', 'orientador', 3200.45, 1)\") \n",
    "cursor.execute(\"INSERT INTO dados_profissionais VALUES(4,'física', 'professor', 1890.33, 2)\") \n",
    "\n",
    "conn.commit()"
   ]
  },
  {
   "cell_type": "code",
   "execution_count": 72,
   "id": "7a3d4670",
   "metadata": {},
   "outputs": [
    {
     "data": {
      "text/plain": [
       "[(1, 'matematica', 'professor', 3500.89, 3),\n",
       " (2, 'geografia', 'orientador', 2850.8, 1),\n",
       " (3, 'historia', 'orientador', 3200.45, 1),\n",
       " (4, 'física', 'professor', 1890.33, 2),\n",
       " (1, 'matematica', 'professor', 3500.89, 3),\n",
       " (2, 'geografia', 'orientador', 2850.8, 1),\n",
       " (3, 'historia', 'orientador', 3200.45, 1),\n",
       " (4, 'física', 'professor', 1890.33, 2)]"
      ]
     },
     "execution_count": 72,
     "metadata": {},
     "output_type": "execute_result"
    }
   ],
   "source": [
    "cursor.execute(\"SELECT * FROM dados_profissionais\")\n",
    "cursor.fetchall()"
   ]
  },
  {
   "cell_type": "markdown",
   "id": "acf132e3",
   "metadata": {},
   "source": [
    "------\n",
    "## Exercício 2\n",
    "Usando a tabela dados profissionais, escreva uma query que retorne todos os campos da tabela ordenando-os pela coluna tempo de casa, de maneira decrescente."
   ]
  },
  {
   "cell_type": "code",
   "execution_count": 73,
   "id": "0485d914",
   "metadata": {},
   "outputs": [
    {
     "data": {
      "text/plain": [
       "[(1, 'matematica', 'professor', 3500.89, 3),\n",
       " (1, 'matematica', 'professor', 3500.89, 3),\n",
       " (4, 'física', 'professor', 1890.33, 2),\n",
       " (4, 'física', 'professor', 1890.33, 2),\n",
       " (2, 'geografia', 'orientador', 2850.8, 1),\n",
       " (3, 'historia', 'orientador', 3200.45, 1),\n",
       " (2, 'geografia', 'orientador', 2850.8, 1),\n",
       " (3, 'historia', 'orientador', 3200.45, 1)]"
      ]
     },
     "execution_count": 73,
     "metadata": {},
     "output_type": "execute_result"
    }
   ],
   "source": [
    "cursor.execute(\"SELECT * FROM dados_profissionais ORDER BY tempo_casa DESC\")\n",
    "cursor.fetchall()"
   ]
  },
  {
   "cell_type": "markdown",
   "id": "374c5343",
   "metadata": {},
   "source": [
    "------\n",
    "## Exercício 3\n",
    "Conte a quantidade de funcionários dessa empresa."
   ]
  },
  {
   "cell_type": "code",
   "execution_count": 74,
   "id": "0385dfce",
   "metadata": {},
   "outputs": [
    {
     "data": {
      "text/plain": [
       "[(8,)]"
      ]
     },
     "execution_count": 74,
     "metadata": {},
     "output_type": "execute_result"
    }
   ],
   "source": [
    "cursor.execute(\"SELECT COUNT(*) FROM dados_profissionais\")\n",
    "cursor.fetchall()"
   ]
  },
  {
   "cell_type": "markdown",
   "id": "67df4535",
   "metadata": {},
   "source": [
    "------\n",
    "## Exercício 4\n",
    "Usando a tabela dados cadastrais, escreva uma query que liste apenas os funcionários que possuem sobrenome \"silva\", ordenados pelo nome completo, ou seja, nome e sobrenome."
   ]
  },
  {
   "cell_type": "code",
   "execution_count": 75,
   "id": "21d62045",
   "metadata": {},
   "outputs": [
    {
     "data": {
      "text/plain": [
       "[(1, 'maria', 'silva', '12/04/1977', '11111211313', 'Rua 1 - SP'),\n",
       " (2, 'joao', 'silva', '12/04/1984', '11111211889', 'Rua 2 - SP'),\n",
       " (1, 'maria', 'silva', '12/04/1977', '11111211313', 'Rua 1 - SP'),\n",
       " (2, 'joao', 'silva', '12/04/1984', '11111211889', 'Rua 2 - SP')]"
      ]
     },
     "execution_count": 75,
     "metadata": {},
     "output_type": "execute_result"
    }
   ],
   "source": [
    "cursor.execute(\"SELECT * FROM dados_cadastrais WHERE sobrenome='silva' ORDER BY nome AND sobrenome\")\n",
    "cursor.fetchall()"
   ]
  },
  {
   "cell_type": "markdown",
   "id": "f88e3ea1",
   "metadata": {},
   "source": [
    "------\n",
    "## Exercício 5\n",
    "Escreva uma query que liste o valor da folha de pagamento dessa empresa por cargo, usando a tabela dados_profissionais. (Ou seja, somar os salários em cada cargo)."
   ]
  },
  {
   "cell_type": "code",
   "execution_count": 76,
   "id": "2594750c",
   "metadata": {},
   "outputs": [
    {
     "data": {
      "text/plain": [
       "[(12102.5, 'orientador'), (10782.439999999999, 'professor')]"
      ]
     },
     "execution_count": 76,
     "metadata": {},
     "output_type": "execute_result"
    }
   ],
   "source": [
    "cursor.execute(\"SELECT SUM(salario), cargo FROM dados_profissionais GROUP BY cargo\" )\n",
    "cursor.fetchall()"
   ]
  },
  {
   "cell_type": "markdown",
   "id": "45fbac92-4937-4ec3-ad16-213a0a96a25f",
   "metadata": {},
   "source": [
    "------\n",
    "# MongoDB "
   ]
  },
  {
   "cell_type": "markdown",
   "id": "7193ee70-1134-44a7-aae9-03731d549a8a",
   "metadata": {},
   "source": [
    "------\n",
    "## Exercício 1\n",
    "Criar uma tabela dados_cadastrais onde cada linha representa um funcionário e com os seguintes atributos: Id, nome, sobrenome, data_nasci, cpf e endereco; Criar uma tabela dados_profissionais com id, graduacao, cargo, salario e tempo_casa. Insira 4 registros em cada uma das tabelas.\n",
    "\n",
    "Tabela: dados cadastrais\n",
    "- [(1,'maria', 'silva', 12/04/1977, 11111211313, 'Rua 1 - SP',),\n",
    "- (2,'joao','silva', 12/04/1984, 11111211889,'Rua 2 - SP'),\n",
    "- (3,'pedro','pereira', 12/04/1987, 11111211786,'Rua 8 - SP'),\n",
    "- (4,'paulo','ribeiro', 12/04/1983, 11111211123,'Rua 9 - SP')]\n",
    "\n",
    "- Obs.: 1. Faltou dados de data de nascimento. 2. dados de cpf invertido com endereço.\n",
    "\n",
    "Tabela: dados profissionais\n",
    "- [(1,'matematica', 'professor', 3500.89, 3),\n",
    "- (2,'geografia', 'orientador', 2850.8, 1),\n",
    "- (3,'historia', 'orientador', 3200.45, 1),\n",
    "- (4,'física', 'professor', 1890.33, 2)]\n"
   ]
  },
  {
   "cell_type": "code",
   "execution_count": 77,
   "id": "6f12ab05-569d-44d2-9895-2661764a74b0",
   "metadata": {},
   "outputs": [
    {
     "name": "stdout",
     "output_type": "stream",
     "text": [
      "Requirement already satisfied: pymongo in c:\\users\\elisa\\appdata\\local\\programs\\python\\python39\\lib\\site-packages (4.0.1)\n"
     ]
    }
   ],
   "source": [
    "#Obs.: Antes de continuar com as atividades abaixo, certifique-se de que o MongoDB está instalado.\n",
    "#Download MongoDB: https://www.mongodb.com/try/download/community\n",
    "# Instalando bibliotea externa\n",
    "!pip install pymongo"
   ]
  },
  {
   "cell_type": "code",
   "execution_count": 78,
   "id": "01e41364-3adf-4149-a750-5a758ed7dd29",
   "metadata": {},
   "outputs": [],
   "source": [
    "#Importando biblioteca\n",
    "import pymongo\n",
    "\n",
    "# Criando conexão com o MongoDB\n",
    "client1 = pymongo.MongoClient()"
   ]
  },
  {
   "cell_type": "code",
   "execution_count": 79,
   "id": "1fe0bbd2-ffa7-43a8-b662-f8996d8dae65",
   "metadata": {},
   "outputs": [],
   "source": [
    "#Criando Banco de dados com MongoDB\n",
    "banco_dados_mongo = client1['db_tarefa4_mongo']"
   ]
  },
  {
   "cell_type": "code",
   "execution_count": 80,
   "id": "eeb5fd36-19fd-429a-85b4-126b82068283",
   "metadata": {},
   "outputs": [],
   "source": [
    "#Criando as coleções(tabelas)\n",
    "colecao_dados_cadastrais = banco_dados_mongo['dados_cadastrais']\n",
    "colecao_dados_profissionais = banco_dados_mongo['dados_profissionais']"
   ]
  },
  {
   "cell_type": "code",
   "execution_count": 81,
   "id": "77c7383d-8142-4a2b-a9e9-c53466582577",
   "metadata": {},
   "outputs": [],
   "source": [
    "# Inserindo dados a coleção colecao_dados_cadastrais\n",
    "dados_cad1 = {'id':1,'nome':'maria','sobrenome':'silva','data_nascimento':'12/04/1917','cpf':'11111211313','endereco':'Rua 1 - SP'}\n",
    "dados_cad2 = {'id':2,'nome':'joao','sobrenome':'silva','data_nascimento':'12/04/1984','cpf':'11111211889','endereco':'Rua 2 - SP'}\n",
    "dados_cad3 = {'id':3,'nome':'pedro','sobrenome':'pereira','data_nascimento':'12/04/1987','cpf':'11111211786','endereco':'Rua 8 - SP'}\n",
    "dados_cad4 = {'id':4,'nome':'paulo','sobrenome':'ribeiro','data_nascimento':'12/04/1983','cpf':'11111211123','endereco':'Rua 9 - SP'}"
   ]
  },
  {
   "cell_type": "code",
   "execution_count": 82,
   "id": "48571b20-d440-465f-b1b9-51b06b45215c",
   "metadata": {},
   "outputs": [
    {
     "data": {
      "text/plain": [
       "<pymongo.results.InsertManyResult at 0x1991360c600>"
      ]
     },
     "execution_count": 82,
     "metadata": {},
     "output_type": "execute_result"
    }
   ],
   "source": [
    "colecao_dados_cadastrais.insert_many([dados_cad1,dados_cad2,dados_cad3,dados_cad4])"
   ]
  },
  {
   "cell_type": "code",
   "execution_count": 83,
   "id": "e8bc3788-0042-409b-bd3f-673b93f8e431",
   "metadata": {},
   "outputs": [],
   "source": [
    "# Inserindo dados a coleção colecao_dados_profissionais\n",
    "dados_prof1 = {'id':1,'graduacao':'matematica','cargo':'professor','salario':3500.89,'tempo_casa':3}\n",
    "dados_prof2 = {'id':1,'graduacao':'geografia','cargo':'orientador','salario':2850.8,'tempo_casa':1}\n",
    "dados_prof3 = {'id':1,'graduacao':'historia','cargo':'orientador','salario':3200.45,'tempo_casa':1}\n",
    "dados_prof4 = {'id':1,'graduacao':'física','cargo':'professor','salario':1890.33,'tempo_casa':2}"
   ]
  },
  {
   "cell_type": "code",
   "execution_count": 84,
   "id": "09a31907-954b-4927-b9d6-cb7f5c8bdc6d",
   "metadata": {},
   "outputs": [
    {
     "data": {
      "text/plain": [
       "<pymongo.results.InsertManyResult at 0x1991362d800>"
      ]
     },
     "execution_count": 84,
     "metadata": {},
     "output_type": "execute_result"
    }
   ],
   "source": [
    "colecao_dados_profissionais.insert_many([dados_prof1,dados_prof2,dados_prof3,dados_prof4])"
   ]
  },
  {
   "cell_type": "code",
   "execution_count": 85,
   "id": "1692b77b-b61a-4d5d-a627-0cc01e765650",
   "metadata": {},
   "outputs": [
    {
     "data": {
      "text/plain": [
       "['admin', 'config', 'db_tarefa4_mongo', 'local']"
      ]
     },
     "execution_count": 85,
     "metadata": {},
     "output_type": "execute_result"
    }
   ],
   "source": [
    "#Visualizando os bancos de dados existentes\n",
    "client1.list_database_names()"
   ]
  },
  {
   "cell_type": "code",
   "execution_count": 86,
   "id": "bdc3b107-f668-4526-a9cc-386b2dffd043",
   "metadata": {},
   "outputs": [
    {
     "data": {
      "text/plain": [
       "['dados_profissionais', 'dados_cadastrais']"
      ]
     },
     "execution_count": 86,
     "metadata": {},
     "output_type": "execute_result"
    }
   ],
   "source": [
    "banco_dados_mongo.list_collection_names()"
   ]
  },
  {
   "cell_type": "markdown",
   "id": "f88cfcab-8508-49f7-a733-08109dc2c5bc",
   "metadata": {},
   "source": [
    "------\n",
    "## Exercício 2\n",
    "Usando a tabela dados profissionais, escreva uma query que retorne todos os campos da tabela ordenando-os pela coluna tempo de casa, de maneira decrescente."
   ]
  },
  {
   "cell_type": "code",
   "execution_count": 107,
   "id": "62606cea",
   "metadata": {},
   "outputs": [
    {
     "name": "stdout",
     "output_type": "stream",
     "text": [
      "{'_id': ObjectId('61ffcaeb414d86929a4bbd4c'), 'id': 1, 'graduacao': 'matematica', 'cargo': 'professor', 'salario': 3500.89, 'tempo_casa': 3}\n",
      "{'_id': ObjectId('61ffd2fc414d86929a4bbd55'), 'id': 1, 'graduacao': 'matematica', 'cargo': 'professor', 'salario': 3500.89, 'tempo_casa': 3}\n",
      "{'_id': ObjectId('61ffcaeb414d86929a4bbd4f'), 'id': 1, 'graduacao': 'física', 'cargo': 'professor', 'salario': 1890.33, 'tempo_casa': 2}\n",
      "{'_id': ObjectId('61ffd2fc414d86929a4bbd58'), 'id': 1, 'graduacao': 'física', 'cargo': 'professor', 'salario': 1890.33, 'tempo_casa': 2}\n",
      "{'_id': ObjectId('61ffcaeb414d86929a4bbd4d'), 'id': 1, 'graduacao': 'geografia', 'cargo': 'orientador', 'salario': 2850.8, 'tempo_casa': 1}\n",
      "{'_id': ObjectId('61ffcaeb414d86929a4bbd4e'), 'id': 1, 'graduacao': 'historia', 'cargo': 'orientador', 'salario': 3200.45, 'tempo_casa': 1}\n",
      "{'_id': ObjectId('61ffd2fc414d86929a4bbd56'), 'id': 1, 'graduacao': 'geografia', 'cargo': 'orientador', 'salario': 2850.8, 'tempo_casa': 1}\n",
      "{'_id': ObjectId('61ffd2fc414d86929a4bbd57'), 'id': 1, 'graduacao': 'historia', 'cargo': 'orientador', 'salario': 3200.45, 'tempo_casa': 1}\n"
     ]
    }
   ],
   "source": [
    "for elemento in colecao_dados_profissionais.find().sort(\"tempo_casa\", pymongo.DESCENDING):\n",
    "    print(elemento)"
   ]
  },
  {
   "cell_type": "markdown",
   "id": "fc3ce964-2b2f-4a2a-9849-cc456b9d338f",
   "metadata": {},
   "source": [
    "------\n",
    "## Exercício 3\n",
    "Conte a quantidade de funcionários dessa empresa;"
   ]
  },
  {
   "cell_type": "code",
   "execution_count": 116,
   "id": "6006cd3f",
   "metadata": {},
   "outputs": [
    {
     "data": {
      "text/plain": [
       "4"
      ]
     },
     "execution_count": 116,
     "metadata": {},
     "output_type": "execute_result"
    }
   ],
   "source": [
    "colecao_dados_profissionais.count_documents({})"
   ]
  },
  {
   "cell_type": "markdown",
   "id": "1934820e-7510-4b0e-9a82-79b2725f700d",
   "metadata": {},
   "source": [
    "------\n",
    "## Exercício 4\n",
    "Usando a tabela dados cadastrais, escreva uma query que liste apenas os funcionários que possuem sobrenome \"silva\", ordenados pelo nome completo, ou seja, nome e sobrenome."
   ]
  },
  {
   "cell_type": "code",
   "execution_count": 140,
   "id": "1b2ccacd",
   "metadata": {},
   "outputs": [
    {
     "name": "stdout",
     "output_type": "stream",
     "text": [
      "{'_id': ObjectId('61ffc8dc414d86929a4bbd48'), 'id': 1, 'nome': 'maria', 'sobrenome': 'silva', 'data_nascimento': '12/04/1917', 'cpf': '11111211313', 'endereco': 'Rua 1 - SP'}\n",
      "{'_id': ObjectId('61ffd2fa414d86929a4bbd51'), 'id': 1, 'nome': 'maria', 'sobrenome': 'silva', 'data_nascimento': '12/04/1917', 'cpf': '11111211313', 'endereco': 'Rua 1 - SP'}\n",
      "{'_id': ObjectId('61ffc8dc414d86929a4bbd49'), 'id': 2, 'nome': 'joao', 'sobrenome': 'silva', 'data_nascimento': '12/04/1984', 'cpf': '11111211889', 'endereco': 'Rua 2 - SP'}\n",
      "{'_id': ObjectId('61ffd2fa414d86929a4bbd52'), 'id': 2, 'nome': 'joao', 'sobrenome': 'silva', 'data_nascimento': '12/04/1984', 'cpf': '11111211889', 'endereco': 'Rua 2 - SP'}\n"
     ]
    }
   ],
   "source": [
    "for elemento in colecao_dados_cadastrais.find({'sobrenome':'silva'}).sort([('nome', pymongo.DESCENDING),\n",
    "                                                                           ('sobrenome', pymongo.DESCENDING)]):\n",
    "    print(elemento)"
   ]
  },
  {
   "cell_type": "markdown",
   "id": "3a67042b-bf28-4fdc-9bc6-d29124eafabd",
   "metadata": {},
   "source": [
    "------\n",
    "## Exercício 5\n",
    "Escreva uma query que liste o valor da folha de pagamento dessa empresa por cargo, usando a tabela dados_profissionais. (Ou seja, somar os salários em cada cargo)."
   ]
  },
  {
   "cell_type": "markdown",
   "id": "f8a97003",
   "metadata": {},
   "source": [
    "Obs: Devido não conseguir realizar a tarefa 5 pelo pymongo, desenvolvi a atividade diretamente pelo MongoDB Compass. Segue imagem abaixo.\n",
    "\n",
    "\"\"\"\n",
    "from bson.son import SON\n",
    "pipeline = [{'$group': {\n",
    "    \"_id\": \"$cargo\",\n",
    "    \"salario\": {\"$sum\": \"$salario\"}}}]\n",
    "\n",
    "import pprint\n",
    "pprint.pprint(list(banco_dados_mongo.colecao_dados_profissionais.aggregate(pipeline)))\n",
    "#Documentaçao de apoio: https://pymongo.readthedocs.io/en/stable/examples/aggregation.html\n",
    "\"\"\"\n",
    "\n",
    "#Documentaçao de apoio: https://docs.mongodb.com/manual/reference/operator/aggregation/group/#pipe._S_group\n",
    "![tarefa4_ex5_com_mongodb](https://drive.google.com/file/d/1Xbq_GIpWhPMBEHUEtbWuacCeJkb7Mq3z/view?usp=sharing)\n",
    "Link da imagem do exercício concluído: https://drive.google.com/file/d/1Xbq_GIpWhPMBEHUEtbWuacCeJkb7Mq3z/view?usp=sharing"
   ]
  },
  {
   "cell_type": "code",
   "execution_count": null,
   "id": "2c6d029f",
   "metadata": {},
   "outputs": [],
   "source": []
  }
 ],
 "metadata": {
  "kernelspec": {
   "display_name": "Python 3 (ipykernel)",
   "language": "python",
   "name": "python3"
  },
  "language_info": {
   "codemirror_mode": {
    "name": "ipython",
    "version": 3
   },
   "file_extension": ".py",
   "mimetype": "text/x-python",
   "name": "python",
   "nbconvert_exporter": "python",
   "pygments_lexer": "ipython3",
   "version": "3.9.2"
  }
 },
 "nbformat": 4,
 "nbformat_minor": 5
}
