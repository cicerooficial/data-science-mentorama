{
 "cells": [
  {
   "cell_type": "markdown",
   "metadata": {},
   "source": [
    "# Tarefas Módulo 8\n",
    "- Nome: Cícero Henrique dos Santos\n",
    "- Data: XX/10/2022\n"
   ]
  },
  {
   "cell_type": "markdown",
   "metadata": {},
   "source": [
    "### Considere o dataset abaixo:"
   ]
  },
  {
   "cell_type": "code",
   "execution_count": 26,
   "metadata": {},
   "outputs": [
    {
     "name": "stdout",
     "output_type": "stream",
     "text": [
      "(2460, 5)\n"
     ]
    },
    {
     "data": {
      "text/html": [
       "<div>\n",
       "<style scoped>\n",
       "    .dataframe tbody tr th:only-of-type {\n",
       "        vertical-align: middle;\n",
       "    }\n",
       "\n",
       "    .dataframe tbody tr th {\n",
       "        vertical-align: top;\n",
       "    }\n",
       "\n",
       "    .dataframe thead th {\n",
       "        text-align: right;\n",
       "    }\n",
       "</style>\n",
       "<table border=\"1\" class=\"dataframe\">\n",
       "  <thead>\n",
       "    <tr style=\"text-align: right;\">\n",
       "      <th></th>\n",
       "      <th>ind_pop_cid</th>\n",
       "      <th>perc_pol</th>\n",
       "      <th>taxa_crim</th>\n",
       "      <th>nivel_ed</th>\n",
       "      <th>crimes</th>\n",
       "    </tr>\n",
       "  </thead>\n",
       "  <tbody>\n",
       "    <tr>\n",
       "      <th>0</th>\n",
       "      <td>1.0</td>\n",
       "      <td>7.185471</td>\n",
       "      <td>62.082693</td>\n",
       "      <td>10.0</td>\n",
       "      <td>77</td>\n",
       "    </tr>\n",
       "    <tr>\n",
       "      <th>1</th>\n",
       "      <td>1.0</td>\n",
       "      <td>24.456750</td>\n",
       "      <td>88.244380</td>\n",
       "      <td>6.0</td>\n",
       "      <td>202</td>\n",
       "    </tr>\n",
       "    <tr>\n",
       "      <th>2</th>\n",
       "      <td>1.0</td>\n",
       "      <td>19.791772</td>\n",
       "      <td>94.930257</td>\n",
       "      <td>1.0</td>\n",
       "      <td>348</td>\n",
       "    </tr>\n",
       "    <tr>\n",
       "      <th>3</th>\n",
       "      <td>4.0</td>\n",
       "      <td>10.089496</td>\n",
       "      <td>41.791507</td>\n",
       "      <td>6.0</td>\n",
       "      <td>114</td>\n",
       "    </tr>\n",
       "    <tr>\n",
       "      <th>4</th>\n",
       "      <td>3.0</td>\n",
       "      <td>34.697495</td>\n",
       "      <td>67.615795</td>\n",
       "      <td>1.0</td>\n",
       "      <td>47</td>\n",
       "    </tr>\n",
       "  </tbody>\n",
       "</table>\n",
       "</div>"
      ],
      "text/plain": [
       "   ind_pop_cid   perc_pol  taxa_crim  nivel_ed  crimes\n",
       "0          1.0   7.185471  62.082693      10.0      77\n",
       "1          1.0  24.456750  88.244380       6.0     202\n",
       "2          1.0  19.791772  94.930257       1.0     348\n",
       "3          4.0  10.089496  41.791507       6.0     114\n",
       "4          3.0  34.697495  67.615795       1.0      47"
      ]
     },
     "execution_count": 26,
     "metadata": {},
     "output_type": "execute_result"
    }
   ],
   "source": [
    "import pandas as pd\n",
    "df = pd.read_csv(\"dataframe_exercicio_modulo_8.csv\")\n",
    "print(df.shape)\n",
    "df.head()"
   ]
  },
  {
   "cell_type": "markdown",
   "metadata": {},
   "source": [
    "Descrição das variáveis:\n",
    "\n",
    "- ind_pop_cid = índice entre 1 e 5, indicando o tamanho da população de uma cidade; quanto maior o índice, maior a cidade;\n",
    "\n",
    "- perc_pol = percentual de policiais ativos na cidade;\n",
    "\n",
    "- taxa_crim = taxa de criminalidade histórica da cidade;\n",
    "\n",
    "- nivel_ed = nível educacional médio da cidade;\n",
    "\n",
    "- crimes = quantidade de crimes registrados no mês vigente;\n"
   ]
  },
  {
   "cell_type": "markdown",
   "metadata": {},
   "source": [
    "# Exercícios"
   ]
  },
  {
   "cell_type": "markdown",
   "metadata": {},
   "source": [
    "## Parte 1:\n",
    "\n",
    "Os exercícios abaixo tratarão a respeito da criação de modelos de aprendizado de máquina. Vimos que precisamos controlar o overfitting dos modelos e medir a capacidade de generalização dos mesmos. Para isso, é interessante termos os dados disponíveis divididos em treino/validação/teste. \n"
   ]
  },
  {
   "cell_type": "markdown",
   "metadata": {},
   "source": [
    "#### Crie uma função para fazer a divisão de treino/teste.\n",
    "\n",
    "Esta função deve ter dois parâmetros de entrada:\n",
    "\n",
    "    1- dataframe disponível;\n",
    "    2- percentual do dataset que será disponibilizado para os dados de teste;\n",
    "    \n",
    "e deve retornar dois dataframes.\n",
    "\n",
    "(__Exemplo:__ Se o dataframe disponível possui 100 linhas e queremos 25% dos dados para teste, então a função deve retornar dois dataframes, um com 75 linhas (o dataset de treino) e outro com as 25 linhas restantes (o dataset de teste).)"
   ]
  },
  {
   "cell_type": "code",
   "execution_count": 27,
   "metadata": {},
   "outputs": [],
   "source": [
    "def divide_teste_e_treino(dataframe, percentual_teste: float):\n",
    "    # Copia os dataframes\n",
    "    df = dataframe.copy()\n",
    "      \n",
    "    df_teste = len(df)*(percentual_teste/100)\n",
    "    df_treino = len(df)*(percentual_teste/100)\n",
    "\n",
    "    return tamanho_df_teste, tamanho_df_treino\n",
    "\n",
    "# def split_dataframe_by_position(df, splits):\n",
    "#     \"\"\"\n",
    "#     Takes a dataframe and an integer of the number of splits to create.\n",
    "#     Returns a list of dataframes.\n",
    "#     \"\"\"\n",
    "#     dataframes = []\n",
    "#     index_to_split = len(df) // splits\n",
    "#     start = 0\n",
    "#     end = index_to_split\n",
    "#     for split in range(splits):\n",
    "#         temporary_df = df.iloc[start:end, :]\n",
    "#         dataframes.append(temporary_df)\n",
    "#         start += index_to_split\n",
    "#         end += index_to_split\n",
    "#     return dataframes\n",
    "# split_dataframes = split_dataframe_by_position(df, 3)\n",
    "# print(split_dataframes[1])"
   ]
  },
  {
   "cell_type": "code",
   "execution_count": 28,
   "metadata": {},
   "outputs": [
    {
     "data": {
      "text/plain": [
       "(2460, 2460)"
      ]
     },
     "execution_count": 28,
     "metadata": {},
     "output_type": "execute_result"
    }
   ],
   "source": [
    "divide_teste_e_treino(df, 25.0)"
   ]
  },
  {
   "cell_type": "code",
   "execution_count": null,
   "metadata": {},
   "outputs": [],
   "source": []
  },
  {
   "cell_type": "code",
   "execution_count": null,
   "metadata": {},
   "outputs": [],
   "source": []
  },
  {
   "cell_type": "code",
   "execution_count": null,
   "metadata": {},
   "outputs": [],
   "source": []
  },
  {
   "cell_type": "code",
   "execution_count": null,
   "metadata": {},
   "outputs": [],
   "source": []
  },
  {
   "cell_type": "markdown",
   "metadata": {},
   "source": [
    "---"
   ]
  },
  {
   "cell_type": "markdown",
   "metadata": {},
   "source": [
    "## Parte 2:"
   ]
  },
  {
   "cell_type": "markdown",
   "metadata": {},
   "source": [
    "### 1 - Usando __apenas UMA variável__, crie modelos de aprendizado de máquina para prever a quantidade de crimes a partir desta única variável. Justifique a escolha desta variável. Instancie vários modelos e compare-os de acordo com as métricas de performance. Indique quais modelos estão sofrendo overfitting. "
   ]
  },
  {
   "cell_type": "code",
   "execution_count": null,
   "metadata": {},
   "outputs": [],
   "source": []
  },
  {
   "cell_type": "markdown",
   "metadata": {},
   "source": [
    "### 2 - Agora, usando todas as variáveis disponíveis, refaça as análises do primeiro exercício e compare os resultados.\n"
   ]
  },
  {
   "cell_type": "code",
   "execution_count": null,
   "metadata": {},
   "outputs": [],
   "source": []
  }
 ],
 "metadata": {
  "kernelspec": {
   "display_name": "Python 3 (ipykernel)",
   "language": "python",
   "name": "python3"
  },
  "language_info": {
   "codemirror_mode": {
    "name": "ipython",
    "version": 3
   },
   "file_extension": ".py",
   "mimetype": "text/x-python",
   "name": "python",
   "nbconvert_exporter": "python",
   "pygments_lexer": "ipython3",
   "version": "3.10.4"
  }
 },
 "nbformat": 4,
 "nbformat_minor": 4
}
