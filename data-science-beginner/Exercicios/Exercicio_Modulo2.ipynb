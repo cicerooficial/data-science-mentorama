{
 "cells": [
  {
   "cell_type": "markdown",
   "id": "9ccf15ac",
   "metadata": {},
   "source": [
    "# Tarefas Módulo 2\n",
    "- Cícero Henriqueo dos Santos\n",
    "- Data: 02/02/2022"
   ]
  },
  {
   "cell_type": "markdown",
   "id": "b46b5410",
   "metadata": {},
   "source": [
    "## Tarefas Vídeo"
   ]
  },
  {
   "cell_type": "markdown",
   "id": "8a5f13c2",
   "metadata": {},
   "source": [
    "------\n",
    "### Exercício 1\n",
    "Escreva duas variáveis do tipo string e escreva uma espressão lógica que verifica se essas variáveis são iguais.\n",
    "Além disso, defina duas variáveis numéricas e calcule qual o resto da divisão de uma pela outra."
   ]
  },
  {
   "cell_type": "code",
   "execution_count": 50,
   "id": "f69a5cc3",
   "metadata": {},
   "outputs": [
    {
     "name": "stdout",
     "output_type": "stream",
     "text": [
      "Digite o primeiro nome: gdf\n",
      "Digite o segundo nome: gdf\n",
      "Os nomes são iguais\n",
      "Digite o primeiro número: 456\n",
      "Digite o segundo número: 456\n",
      "O resultado da divisão é: 0\n"
     ]
    }
   ],
   "source": [
    "#Cria input para solicitar os nomes ao usuário\n",
    "nome1 = input('Digite o primeiro nome: ')\n",
    "nome2 = input('Digite o segundo nome: ')\n",
    "\n",
    "#Confere se os nomes são iguais\n",
    "if (nome1 == nome2):\n",
    "    print('Os nomes são iguais')\n",
    "else:\n",
    "    print('Os nomes são diferentes')\n",
    "\n",
    "#Cria input para solicitar os numeros ao usuário\n",
    "numero1 = int(input('Digite o primeiro número: '))\n",
    "numero2 = int(input('Digite o segundo número: '))\n",
    "resultado = (numero1 % numero2)\n",
    "\n",
    "print(f'O resultado da divisão é: {resultado}')"
   ]
  },
  {
   "cell_type": "markdown",
   "id": "c396a580",
   "metadata": {},
   "source": [
    "------\n",
    "### Exercício 2\n",
    "Crie uma lista de strings, que possui elementos repetidos e posteriormente converta essa lista para um conjunto.\n",
    "Confira o tamanho das listas antes e depois da conversão"
   ]
  },
  {
   "cell_type": "code",
   "execution_count": 59,
   "id": "1a446244",
   "metadata": {},
   "outputs": [
    {
     "name": "stdout",
     "output_type": "stream",
     "text": [
      "Tamanho da lista:  7\n",
      "Tamanho do conjunto:  5\n"
     ]
    }
   ],
   "source": [
    "lista_strings = ['abacaxi','maçã','laranja','limão','goiaba','maçã', 'goiaba']\n",
    "print('Tamanho da lista: ', len(lista_strings))\n",
    "\n",
    "lista_strings = set(lista_strings)\n",
    "print('Tamanho do conjunto: ', len(lista_strings))"
   ]
  },
  {
   "cell_type": "markdown",
   "id": "6f7e3467",
   "metadata": {},
   "source": [
    "------\n",
    "### Exercício 3\n",
    "Crie um dicionário com 3 itens, onde as chaves são clientes de uma determinada loja e os valores são listas contendo \n",
    "produtos que esses clientes já consumiram. As listas podem ter tamanhos diferentes!"
   ]
  },
  {
   "cell_type": "code",
   "execution_count": 243,
   "id": "250ef2c0",
   "metadata": {},
   "outputs": [
    {
     "name": "stdout",
     "output_type": "stream",
     "text": [
      "{'Cliente 1': ['Creme dental', 'Escova de dente', 'Papel higiênico'], 'Cliente 2': ['Xampu', 'Condicionador', 'Sabonete'], 'Cliente 3': ['Detergente', 'São em pó', 'Amaciante', 'São em barra', 'Desinfetante']}\n"
     ]
    }
   ],
   "source": [
    "#Cria o dicionário\n",
    "dicionario = {'Cliente 1': ['Creme dental','Escova de dente','Papel higiênico'],\n",
    "              'Cliente 2': ['Xampu','Condicionador','Sabonete',],\n",
    "              'Cliente 3': ['Detergente','São em pó','Amaciante', 'São em barra', 'Desinfetante']\n",
    "             }\n",
    "\n",
    "print(dicionario)"
   ]
  },
  {
   "cell_type": "markdown",
   "id": "baffe97c",
   "metadata": {},
   "source": [
    "## Tarefas Anexo PDF"
   ]
  },
  {
   "cell_type": "markdown",
   "id": "57c56e2d",
   "metadata": {},
   "source": [
    "### Exercício 1\n",
    "Escreva o código para o seguinte padrão: \n",
    "\n",
    "- 1\n",
    "- 1 2\n",
    "- 1 2 3 \n",
    "- 1 2 3 4\n",
    "- 1 2 3 4 5\n"
   ]
  },
  {
   "cell_type": "code",
   "execution_count": 166,
   "id": "ae6c4002",
   "metadata": {
    "scrolled": true
   },
   "outputs": [
    {
     "name": "stdout",
     "output_type": "stream",
     "text": [
      "1\n",
      "1 2\n",
      "1 2 3\n",
      "1 2 3 4\n",
      "1 2 3 4 5\n"
     ]
    }
   ],
   "source": [
    "#Cria a lista de números\n",
    "lista_resultado = []\n",
    "\n",
    "#Faz um laço para iterar 5 vezes\n",
    "for posicao in range(1,6):\n",
    "    lista_resultado.append(posicao) #Adiciona o número na lista\n",
    "    lista_numeros_string = \" \".join(map(str, lista_resultado)) #Converte para string o valor da lista\n",
    "    print(lista_numeros_string)\n",
    "\n",
    "#Fonte de ajuda: https://www.delftstack.com/pt/howto/python/how-to-convert-a-list-to-string/"
   ]
  },
  {
   "cell_type": "markdown",
   "id": "5850f61b",
   "metadata": {},
   "source": [
    "------\n",
    "### Exercicio 2\n",
    "\n",
    "Escreva uma função que recebe uma lista de strings, identifica quais palavras tem tamanho maior que 7 e possuem a letra \"e\"\n",
    "e retorna uma nova lista com as palavras as quais foram identificadas com as características acima."
   ]
  },
  {
   "cell_type": "code",
   "execution_count": 5,
   "id": "0fc380d0",
   "metadata": {},
   "outputs": [],
   "source": [
    "#Declara a função\n",
    "def escreve_lista_string(lista):\n",
    "    nova_lista = []\n",
    "    for posicao in range(len(lista)):\n",
    "        identifica_palavra = lista[posicao]\n",
    "        tamanho_palavra = len(identifica_palavra)\n",
    "        if tamanho_palavra > 7 and 'e' in identifica_palavra:\n",
    "            nova_lista.append(identifica_palavra)\n",
    "\n",
    "    return print(f'Palavras maiores que 7 caracteres e que possuem a letra e: {nova_lista}')"
   ]
  },
  {
   "cell_type": "code",
   "execution_count": 8,
   "id": "b3b883df",
   "metadata": {},
   "outputs": [
    {
     "name": "stdout",
     "output_type": "stream",
     "text": [
      "Palavras maiores que 7 caracteres e que possuem a letra e: ['objetivo', 'definição', 'argumento']\n"
     ]
    }
   ],
   "source": [
    "#Cria lista\n",
    "lista_palavras = ['função','imprimir','objetivo','definição','concordar','argumento','chamado','política']\n",
    "\n",
    "#Chama a função\n",
    "escreve_lista_string(lista_palavras)"
   ]
  },
  {
   "cell_type": "markdown",
   "id": "50a6ebf4",
   "metadata": {},
   "source": [
    "------\n",
    "### Exercício 3\n",
    "Crie um dicionário com 3 itens, onde as chaves são estados brasileiros e os valores são listas de tamanho 2, \n",
    "contendo as duas maiores cidades desses estados."
   ]
  },
  {
   "cell_type": "code",
   "execution_count": 2,
   "id": "ce8f4bab",
   "metadata": {},
   "outputs": [
    {
     "name": "stdout",
     "output_type": "stream",
     "text": [
      "{'São Paulo': ['São Paulo', 'Guarulhos'], 'Bahia': ['Salvador', 'Feira de Santana'], 'Alagoas': ['Maceió', 'Arapiraca']}\n"
     ]
    }
   ],
   "source": [
    "dicionario_final = {'São Paulo': ['São Paulo','Guarulhos'],\n",
    "              'Bahia': ['Salvador','Feira de Santana'],\n",
    "              'Alagoas': ['Maceió','Arapiraca']\n",
    "             }\n",
    "\n",
    "print(dicionario_final)"
   ]
  },
  {
   "cell_type": "code",
   "execution_count": null,
   "id": "dda511bd",
   "metadata": {},
   "outputs": [],
   "source": []
  }
 ],
 "metadata": {
  "kernelspec": {
   "display_name": "Python 3",
   "language": "python",
   "name": "python3"
  },
  "language_info": {
   "codemirror_mode": {
    "name": "ipython",
    "version": 3
   },
   "file_extension": ".py",
   "mimetype": "text/x-python",
   "name": "python",
   "nbconvert_exporter": "python",
   "pygments_lexer": "ipython3",
   "version": "3.8.8"
  }
 },
 "nbformat": 4,
 "nbformat_minor": 5
}
